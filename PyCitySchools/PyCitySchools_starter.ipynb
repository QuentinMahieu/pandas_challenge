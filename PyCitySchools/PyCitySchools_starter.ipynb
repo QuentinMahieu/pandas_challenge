{
 "cells": [
  {
   "cell_type": "markdown",
   "metadata": {},
   "source": [
    "### [Observations :]\n",
    "\n",
    "* The students are more likely to perform (>70% in math and reading) in charter schools (>90% vs 53% for distict schools) from small to medium size (<2000). It is confirmed by the top 5 performing schools that are charter schools and the bottom 5 performing schools that are distict schools.\n",
    "\n",
    "* The budgets are inversely related with the performances. The schools that have a smaller budget per student are perfoming better than the schools with a higher budget per student.\n",
    "\n",
    "* The performances per school are stable for each grade level."
   ]
  },
  {
   "cell_type": "markdown",
   "metadata": {},
   "source": [
    "### Note\n",
    "* Instructions have been included for each segment. You do not have to follow them exactly, but they are included to help you think through the steps."
   ]
  },
  {
   "cell_type": "markdown",
   "metadata": {},
   "source": [
    "## District Summary\n",
    "\n",
    "* Calculate the total number of schools\n",
    "\n",
    "* Calculate the total number of students\n",
    "\n",
    "* Calculate the total budget\n",
    "\n",
    "* Calculate the average math score \n",
    "\n",
    "* Calculate the average reading score\n",
    "\n",
    "* Calculate the percentage of students with a passing math score (70 or greater)\n",
    "\n",
    "* Calculate the percentage of students with a passing reading score (70 or greater)\n",
    "\n",
    "* Calculate the percentage of students who passed math **and** reading (% Overall Passing)\n",
    "\n",
    "* Create a dataframe to hold the above results\n",
    "\n",
    "* Optional: give the displayed data cleaner formatting"
   ]
  },
  {
   "cell_type": "code",
   "execution_count": 1,
   "metadata": {
    "tags": []
   },
   "outputs": [],
   "source": [
    "# Dependencies and Setup\n",
    "import pandas as pd\n",
    "\n",
    "# File to Load (Remember to Change These)\n",
    "school_data_to_load = \"Resources/schools_complete.csv\"\n",
    "student_data_to_load = \"Resources/students_complete.csv\"\n",
    "\n",
    "# Read School and Student Data File and store into Pandas DataFrames\n",
    "school_data = pd.read_csv(school_data_to_load)\n",
    "student_data = pd.read_csv(student_data_to_load)\n",
    "\n",
    "# Combine the data into a single dataset.  \n",
    "school_data_complete = pd.merge(student_data, school_data, how=\"left\", on=[\"school_name\", \"school_name\"])\n",
    "school_data_complete.head()\n",
    "\n",
    "#usefull filtered data\n",
    "\n",
    "math_pass = school_data_complete[school_data_complete[\"math_score\"]>=70]\n",
    "reading_pass = school_data_complete[school_data_complete[\"reading_score\"]>=70]\n",
    "overall_pass = school_data_complete[(school_data_complete[\"reading_score\"] >= 70) &\n",
    "                                    (school_data_complete[\"math_score\"]>= 70)]"
   ]
  },
  {
   "cell_type": "code",
   "execution_count": 2,
   "metadata": {},
   "outputs": [
    {
     "output_type": "execute_result",
     "data": {
      "text/plain": "<pandas.io.formats.style.Styler at 0x7fae42d84358>",
      "text/html": "<style  type=\"text/css\" >\n</style><table id=\"T_80b83fbe_f7b7_11ea_99a2_f40f2417f9ec\" ><thead>    <tr>        <th class=\"blank level0\" ></th>        <th class=\"col_heading level0 col0\" >School ID</th>        <th class=\"col_heading level0 col1\" >Student ID</th>        <th class=\"col_heading level0 col2\" >Total Budget</th>        <th class=\"col_heading level0 col3\" >math_score</th>        <th class=\"col_heading level0 col4\" >reading_score</th>        <th class=\"col_heading level0 col5\" >% Passing Math</th>        <th class=\"col_heading level0 col6\" >% Passing Reading</th>        <th class=\"col_heading level0 col7\" >% Overall Passing</th>    </tr></thead><tbody>\n                <tr>\n                        <th id=\"T_80b83fbe_f7b7_11ea_99a2_f40f2417f9eclevel0_row0\" class=\"row_heading level0 row0\" >0</th>\n                        <td id=\"T_80b83fbe_f7b7_11ea_99a2_f40f2417f9ecrow0_col0\" class=\"data row0 col0\" >15</td>\n                        <td id=\"T_80b83fbe_f7b7_11ea_99a2_f40f2417f9ecrow0_col1\" class=\"data row0 col1\" >39170</td>\n                        <td id=\"T_80b83fbe_f7b7_11ea_99a2_f40f2417f9ecrow0_col2\" class=\"data row0 col2\" >$24,649,428</td>\n                        <td id=\"T_80b83fbe_f7b7_11ea_99a2_f40f2417f9ecrow0_col3\" class=\"data row0 col3\" >78.99%</td>\n                        <td id=\"T_80b83fbe_f7b7_11ea_99a2_f40f2417f9ecrow0_col4\" class=\"data row0 col4\" >81.88%</td>\n                        <td id=\"T_80b83fbe_f7b7_11ea_99a2_f40f2417f9ecrow0_col5\" class=\"data row0 col5\" >74.98%</td>\n                        <td id=\"T_80b83fbe_f7b7_11ea_99a2_f40f2417f9ecrow0_col6\" class=\"data row0 col6\" >85.81%</td>\n                        <td id=\"T_80b83fbe_f7b7_11ea_99a2_f40f2417f9ecrow0_col7\" class=\"data row0 col7\" >65.17%</td>\n            </tr>\n    </tbody></table>"
     },
     "metadata": {},
     "execution_count": 2
    }
   ],
   "source": [
    "#wite a function to calculation multiple operations on multiple columns\n",
    "f = {\"School ID\" : \"nunique\", \"Student ID\" : \"count\",\n",
    "     \"reading_score\" : \"mean\", \"math_score\" : \"mean\"}\n",
    "summary_df = pd.DataFrame(school_data_complete.agg(f))\n",
    "summary_df = summary_df.transpose()\n",
    "#other calculations\n",
    "summary_df[\"Total Budget\"] = school_data_complete[\"budget\"].unique().sum()\n",
    "summary_df[\"% Passing Math\"] = (math_pass[\"student_name\"].count())/summary_df[\"Student ID\"]\n",
    "summary_df[\"% Passing Reading\"] = (reading_pass[\"student_name\"].count())/summary_df[\"Student ID\"]\n",
    "summary_df[\"% Overall Passing\"] = (overall_pass[\"student_name\"].count())/summary_df[\"Student ID\"]\n",
    "#organise and format the data frame\n",
    "summary_df = summary_df[[\"School ID\",\"Student ID\", \"Total Budget\",\n",
    "                        \"math_score\",\"reading_score\",\"% Passing Math\",\n",
    "                        \"% Passing Reading\",\"% Overall Passing\"]]\n",
    "summary_df[[\"School ID\", \"Student ID\"]] = summary_df[[\"School ID\", \"Student ID\"]].astype(\"int32\")\n",
    "summary_df = summary_df.style.format({\"Total Budget\": \"${:,}\",\n",
    "                    \"reading_score\": \"{:.2f}%\",\"math_score\": \"{:.2f}%\",\n",
    "                    \"% Passing Math\": \"{:.2%}\",\"% Passing Reading\" : \"{:.2%}\",\n",
    "                    \"% Overall Passing\" : \"{:.2%}\" })\n",
    "summary_df"
   ]
  },
  {
   "cell_type": "markdown",
   "metadata": {},
   "source": [
    "## School Summary"
   ]
  },
  {
   "cell_type": "markdown",
   "metadata": {},
   "source": [
    "* Create an overview table that summarizes key metrics about each school, including:\n",
    "  * School Name\n",
    "  * School Type\n",
    "  * Total Students\n",
    "  * Total School Budget\n",
    "  * Per Student Budget\n",
    "  * Average Math Score\n",
    "  * Average Reading Score\n",
    "  * % Passing Math\n",
    "  * % Passing Reading\n",
    "  * % Overall Passing (The percentage of students that passed math **and** reading.)\n",
    "  \n",
    "* Create a dataframe to hold the above results"
   ]
  },
  {
   "cell_type": "code",
   "execution_count": 3,
   "metadata": {
    "tags": []
   },
   "outputs": [
    {
     "output_type": "execute_result",
     "data": {
      "text/plain": "<pandas.io.formats.style.Styler at 0x7fae40c63b38>",
      "text/html": "<style  type=\"text/css\" >\n</style><table id=\"T_80d6e7b6_f7b7_11ea_a44b_f40f2417f9ec\" ><thead>    <tr>        <th class=\"blank level0\" ></th>        <th class=\"col_heading level0 col0\" >School Names</th>        <th class=\"col_heading level0 col1\" >School Type</th>        <th class=\"col_heading level0 col2\" >Total Students</th>        <th class=\"col_heading level0 col3\" >Total School Budget</th>        <th class=\"col_heading level0 col4\" >Per Student Budget</th>        <th class=\"col_heading level0 col5\" >Average Math Score</th>        <th class=\"col_heading level0 col6\" >Average Reading Score</th>        <th class=\"col_heading level0 col7\" >% Passing Math</th>        <th class=\"col_heading level0 col8\" >% Passing Reading</th>        <th class=\"col_heading level0 col9\" >% Overall Passing</th>    </tr></thead><tbody>\n                <tr>\n                        <th id=\"T_80d6e7b6_f7b7_11ea_a44b_f40f2417f9eclevel0_row0\" class=\"row_heading level0 row0\" >0</th>\n                        <td id=\"T_80d6e7b6_f7b7_11ea_a44b_f40f2417f9ecrow0_col0\" class=\"data row0 col0\" >Bailey High School</td>\n                        <td id=\"T_80d6e7b6_f7b7_11ea_a44b_f40f2417f9ecrow0_col1\" class=\"data row0 col1\" >District</td>\n                        <td id=\"T_80d6e7b6_f7b7_11ea_a44b_f40f2417f9ecrow0_col2\" class=\"data row0 col2\" >4976</td>\n                        <td id=\"T_80d6e7b6_f7b7_11ea_a44b_f40f2417f9ecrow0_col3\" class=\"data row0 col3\" >$3,124,928</td>\n                        <td id=\"T_80d6e7b6_f7b7_11ea_a44b_f40f2417f9ecrow0_col4\" class=\"data row0 col4\" >$628.00</td>\n                        <td id=\"T_80d6e7b6_f7b7_11ea_a44b_f40f2417f9ecrow0_col5\" class=\"data row0 col5\" >77.05%</td>\n                        <td id=\"T_80d6e7b6_f7b7_11ea_a44b_f40f2417f9ecrow0_col6\" class=\"data row0 col6\" >81.03%</td>\n                        <td id=\"T_80d6e7b6_f7b7_11ea_a44b_f40f2417f9ecrow0_col7\" class=\"data row0 col7\" >66.68%</td>\n                        <td id=\"T_80d6e7b6_f7b7_11ea_a44b_f40f2417f9ecrow0_col8\" class=\"data row0 col8\" >81.93%</td>\n                        <td id=\"T_80d6e7b6_f7b7_11ea_a44b_f40f2417f9ecrow0_col9\" class=\"data row0 col9\" >54.64%</td>\n            </tr>\n            <tr>\n                        <th id=\"T_80d6e7b6_f7b7_11ea_a44b_f40f2417f9eclevel0_row1\" class=\"row_heading level0 row1\" >1</th>\n                        <td id=\"T_80d6e7b6_f7b7_11ea_a44b_f40f2417f9ecrow1_col0\" class=\"data row1 col0\" >Cabrera High School</td>\n                        <td id=\"T_80d6e7b6_f7b7_11ea_a44b_f40f2417f9ecrow1_col1\" class=\"data row1 col1\" >Charter</td>\n                        <td id=\"T_80d6e7b6_f7b7_11ea_a44b_f40f2417f9ecrow1_col2\" class=\"data row1 col2\" >1858</td>\n                        <td id=\"T_80d6e7b6_f7b7_11ea_a44b_f40f2417f9ecrow1_col3\" class=\"data row1 col3\" >$1,081,356</td>\n                        <td id=\"T_80d6e7b6_f7b7_11ea_a44b_f40f2417f9ecrow1_col4\" class=\"data row1 col4\" >$582.00</td>\n                        <td id=\"T_80d6e7b6_f7b7_11ea_a44b_f40f2417f9ecrow1_col5\" class=\"data row1 col5\" >83.06%</td>\n                        <td id=\"T_80d6e7b6_f7b7_11ea_a44b_f40f2417f9ecrow1_col6\" class=\"data row1 col6\" >83.98%</td>\n                        <td id=\"T_80d6e7b6_f7b7_11ea_a44b_f40f2417f9ecrow1_col7\" class=\"data row1 col7\" >94.13%</td>\n                        <td id=\"T_80d6e7b6_f7b7_11ea_a44b_f40f2417f9ecrow1_col8\" class=\"data row1 col8\" >97.04%</td>\n                        <td id=\"T_80d6e7b6_f7b7_11ea_a44b_f40f2417f9ecrow1_col9\" class=\"data row1 col9\" >91.33%</td>\n            </tr>\n            <tr>\n                        <th id=\"T_80d6e7b6_f7b7_11ea_a44b_f40f2417f9eclevel0_row2\" class=\"row_heading level0 row2\" >2</th>\n                        <td id=\"T_80d6e7b6_f7b7_11ea_a44b_f40f2417f9ecrow2_col0\" class=\"data row2 col0\" >Figueroa High School</td>\n                        <td id=\"T_80d6e7b6_f7b7_11ea_a44b_f40f2417f9ecrow2_col1\" class=\"data row2 col1\" >District</td>\n                        <td id=\"T_80d6e7b6_f7b7_11ea_a44b_f40f2417f9ecrow2_col2\" class=\"data row2 col2\" >2949</td>\n                        <td id=\"T_80d6e7b6_f7b7_11ea_a44b_f40f2417f9ecrow2_col3\" class=\"data row2 col3\" >$1,884,411</td>\n                        <td id=\"T_80d6e7b6_f7b7_11ea_a44b_f40f2417f9ecrow2_col4\" class=\"data row2 col4\" >$639.00</td>\n                        <td id=\"T_80d6e7b6_f7b7_11ea_a44b_f40f2417f9ecrow2_col5\" class=\"data row2 col5\" >76.71%</td>\n                        <td id=\"T_80d6e7b6_f7b7_11ea_a44b_f40f2417f9ecrow2_col6\" class=\"data row2 col6\" >81.16%</td>\n                        <td id=\"T_80d6e7b6_f7b7_11ea_a44b_f40f2417f9ecrow2_col7\" class=\"data row2 col7\" >65.99%</td>\n                        <td id=\"T_80d6e7b6_f7b7_11ea_a44b_f40f2417f9ecrow2_col8\" class=\"data row2 col8\" >80.74%</td>\n                        <td id=\"T_80d6e7b6_f7b7_11ea_a44b_f40f2417f9ecrow2_col9\" class=\"data row2 col9\" >53.20%</td>\n            </tr>\n            <tr>\n                        <th id=\"T_80d6e7b6_f7b7_11ea_a44b_f40f2417f9eclevel0_row3\" class=\"row_heading level0 row3\" >3</th>\n                        <td id=\"T_80d6e7b6_f7b7_11ea_a44b_f40f2417f9ecrow3_col0\" class=\"data row3 col0\" >Ford High School</td>\n                        <td id=\"T_80d6e7b6_f7b7_11ea_a44b_f40f2417f9ecrow3_col1\" class=\"data row3 col1\" >District</td>\n                        <td id=\"T_80d6e7b6_f7b7_11ea_a44b_f40f2417f9ecrow3_col2\" class=\"data row3 col2\" >2739</td>\n                        <td id=\"T_80d6e7b6_f7b7_11ea_a44b_f40f2417f9ecrow3_col3\" class=\"data row3 col3\" >$1,763,916</td>\n                        <td id=\"T_80d6e7b6_f7b7_11ea_a44b_f40f2417f9ecrow3_col4\" class=\"data row3 col4\" >$644.00</td>\n                        <td id=\"T_80d6e7b6_f7b7_11ea_a44b_f40f2417f9ecrow3_col5\" class=\"data row3 col5\" >77.10%</td>\n                        <td id=\"T_80d6e7b6_f7b7_11ea_a44b_f40f2417f9ecrow3_col6\" class=\"data row3 col6\" >80.75%</td>\n                        <td id=\"T_80d6e7b6_f7b7_11ea_a44b_f40f2417f9ecrow3_col7\" class=\"data row3 col7\" >68.31%</td>\n                        <td id=\"T_80d6e7b6_f7b7_11ea_a44b_f40f2417f9ecrow3_col8\" class=\"data row3 col8\" >79.30%</td>\n                        <td id=\"T_80d6e7b6_f7b7_11ea_a44b_f40f2417f9ecrow3_col9\" class=\"data row3 col9\" >54.29%</td>\n            </tr>\n            <tr>\n                        <th id=\"T_80d6e7b6_f7b7_11ea_a44b_f40f2417f9eclevel0_row4\" class=\"row_heading level0 row4\" >4</th>\n                        <td id=\"T_80d6e7b6_f7b7_11ea_a44b_f40f2417f9ecrow4_col0\" class=\"data row4 col0\" >Griffin High School</td>\n                        <td id=\"T_80d6e7b6_f7b7_11ea_a44b_f40f2417f9ecrow4_col1\" class=\"data row4 col1\" >Charter</td>\n                        <td id=\"T_80d6e7b6_f7b7_11ea_a44b_f40f2417f9ecrow4_col2\" class=\"data row4 col2\" >1468</td>\n                        <td id=\"T_80d6e7b6_f7b7_11ea_a44b_f40f2417f9ecrow4_col3\" class=\"data row4 col3\" >$917,500</td>\n                        <td id=\"T_80d6e7b6_f7b7_11ea_a44b_f40f2417f9ecrow4_col4\" class=\"data row4 col4\" >$625.00</td>\n                        <td id=\"T_80d6e7b6_f7b7_11ea_a44b_f40f2417f9ecrow4_col5\" class=\"data row4 col5\" >83.35%</td>\n                        <td id=\"T_80d6e7b6_f7b7_11ea_a44b_f40f2417f9ecrow4_col6\" class=\"data row4 col6\" >83.82%</td>\n                        <td id=\"T_80d6e7b6_f7b7_11ea_a44b_f40f2417f9ecrow4_col7\" class=\"data row4 col7\" >93.39%</td>\n                        <td id=\"T_80d6e7b6_f7b7_11ea_a44b_f40f2417f9ecrow4_col8\" class=\"data row4 col8\" >97.14%</td>\n                        <td id=\"T_80d6e7b6_f7b7_11ea_a44b_f40f2417f9ecrow4_col9\" class=\"data row4 col9\" >90.60%</td>\n            </tr>\n            <tr>\n                        <th id=\"T_80d6e7b6_f7b7_11ea_a44b_f40f2417f9eclevel0_row5\" class=\"row_heading level0 row5\" >5</th>\n                        <td id=\"T_80d6e7b6_f7b7_11ea_a44b_f40f2417f9ecrow5_col0\" class=\"data row5 col0\" >Hernandez High School</td>\n                        <td id=\"T_80d6e7b6_f7b7_11ea_a44b_f40f2417f9ecrow5_col1\" class=\"data row5 col1\" >District</td>\n                        <td id=\"T_80d6e7b6_f7b7_11ea_a44b_f40f2417f9ecrow5_col2\" class=\"data row5 col2\" >4635</td>\n                        <td id=\"T_80d6e7b6_f7b7_11ea_a44b_f40f2417f9ecrow5_col3\" class=\"data row5 col3\" >$3,022,020</td>\n                        <td id=\"T_80d6e7b6_f7b7_11ea_a44b_f40f2417f9ecrow5_col4\" class=\"data row5 col4\" >$652.00</td>\n                        <td id=\"T_80d6e7b6_f7b7_11ea_a44b_f40f2417f9ecrow5_col5\" class=\"data row5 col5\" >77.29%</td>\n                        <td id=\"T_80d6e7b6_f7b7_11ea_a44b_f40f2417f9ecrow5_col6\" class=\"data row5 col6\" >80.93%</td>\n                        <td id=\"T_80d6e7b6_f7b7_11ea_a44b_f40f2417f9ecrow5_col7\" class=\"data row5 col7\" >66.75%</td>\n                        <td id=\"T_80d6e7b6_f7b7_11ea_a44b_f40f2417f9ecrow5_col8\" class=\"data row5 col8\" >80.86%</td>\n                        <td id=\"T_80d6e7b6_f7b7_11ea_a44b_f40f2417f9ecrow5_col9\" class=\"data row5 col9\" >53.53%</td>\n            </tr>\n            <tr>\n                        <th id=\"T_80d6e7b6_f7b7_11ea_a44b_f40f2417f9eclevel0_row6\" class=\"row_heading level0 row6\" >6</th>\n                        <td id=\"T_80d6e7b6_f7b7_11ea_a44b_f40f2417f9ecrow6_col0\" class=\"data row6 col0\" >Holden High School</td>\n                        <td id=\"T_80d6e7b6_f7b7_11ea_a44b_f40f2417f9ecrow6_col1\" class=\"data row6 col1\" >Charter</td>\n                        <td id=\"T_80d6e7b6_f7b7_11ea_a44b_f40f2417f9ecrow6_col2\" class=\"data row6 col2\" >427</td>\n                        <td id=\"T_80d6e7b6_f7b7_11ea_a44b_f40f2417f9ecrow6_col3\" class=\"data row6 col3\" >$248,087</td>\n                        <td id=\"T_80d6e7b6_f7b7_11ea_a44b_f40f2417f9ecrow6_col4\" class=\"data row6 col4\" >$581.00</td>\n                        <td id=\"T_80d6e7b6_f7b7_11ea_a44b_f40f2417f9ecrow6_col5\" class=\"data row6 col5\" >83.80%</td>\n                        <td id=\"T_80d6e7b6_f7b7_11ea_a44b_f40f2417f9ecrow6_col6\" class=\"data row6 col6\" >83.81%</td>\n                        <td id=\"T_80d6e7b6_f7b7_11ea_a44b_f40f2417f9ecrow6_col7\" class=\"data row6 col7\" >92.51%</td>\n                        <td id=\"T_80d6e7b6_f7b7_11ea_a44b_f40f2417f9ecrow6_col8\" class=\"data row6 col8\" >96.25%</td>\n                        <td id=\"T_80d6e7b6_f7b7_11ea_a44b_f40f2417f9ecrow6_col9\" class=\"data row6 col9\" >89.23%</td>\n            </tr>\n            <tr>\n                        <th id=\"T_80d6e7b6_f7b7_11ea_a44b_f40f2417f9eclevel0_row7\" class=\"row_heading level0 row7\" >7</th>\n                        <td id=\"T_80d6e7b6_f7b7_11ea_a44b_f40f2417f9ecrow7_col0\" class=\"data row7 col0\" >Huang High School</td>\n                        <td id=\"T_80d6e7b6_f7b7_11ea_a44b_f40f2417f9ecrow7_col1\" class=\"data row7 col1\" >District</td>\n                        <td id=\"T_80d6e7b6_f7b7_11ea_a44b_f40f2417f9ecrow7_col2\" class=\"data row7 col2\" >2917</td>\n                        <td id=\"T_80d6e7b6_f7b7_11ea_a44b_f40f2417f9ecrow7_col3\" class=\"data row7 col3\" >$1,910,635</td>\n                        <td id=\"T_80d6e7b6_f7b7_11ea_a44b_f40f2417f9ecrow7_col4\" class=\"data row7 col4\" >$655.00</td>\n                        <td id=\"T_80d6e7b6_f7b7_11ea_a44b_f40f2417f9ecrow7_col5\" class=\"data row7 col5\" >76.63%</td>\n                        <td id=\"T_80d6e7b6_f7b7_11ea_a44b_f40f2417f9ecrow7_col6\" class=\"data row7 col6\" >81.18%</td>\n                        <td id=\"T_80d6e7b6_f7b7_11ea_a44b_f40f2417f9ecrow7_col7\" class=\"data row7 col7\" >65.68%</td>\n                        <td id=\"T_80d6e7b6_f7b7_11ea_a44b_f40f2417f9ecrow7_col8\" class=\"data row7 col8\" >81.32%</td>\n                        <td id=\"T_80d6e7b6_f7b7_11ea_a44b_f40f2417f9ecrow7_col9\" class=\"data row7 col9\" >53.51%</td>\n            </tr>\n            <tr>\n                        <th id=\"T_80d6e7b6_f7b7_11ea_a44b_f40f2417f9eclevel0_row8\" class=\"row_heading level0 row8\" >8</th>\n                        <td id=\"T_80d6e7b6_f7b7_11ea_a44b_f40f2417f9ecrow8_col0\" class=\"data row8 col0\" >Johnson High School</td>\n                        <td id=\"T_80d6e7b6_f7b7_11ea_a44b_f40f2417f9ecrow8_col1\" class=\"data row8 col1\" >District</td>\n                        <td id=\"T_80d6e7b6_f7b7_11ea_a44b_f40f2417f9ecrow8_col2\" class=\"data row8 col2\" >4761</td>\n                        <td id=\"T_80d6e7b6_f7b7_11ea_a44b_f40f2417f9ecrow8_col3\" class=\"data row8 col3\" >$3,094,650</td>\n                        <td id=\"T_80d6e7b6_f7b7_11ea_a44b_f40f2417f9ecrow8_col4\" class=\"data row8 col4\" >$650.00</td>\n                        <td id=\"T_80d6e7b6_f7b7_11ea_a44b_f40f2417f9ecrow8_col5\" class=\"data row8 col5\" >77.07%</td>\n                        <td id=\"T_80d6e7b6_f7b7_11ea_a44b_f40f2417f9ecrow8_col6\" class=\"data row8 col6\" >80.97%</td>\n                        <td id=\"T_80d6e7b6_f7b7_11ea_a44b_f40f2417f9ecrow8_col7\" class=\"data row8 col7\" >66.06%</td>\n                        <td id=\"T_80d6e7b6_f7b7_11ea_a44b_f40f2417f9ecrow8_col8\" class=\"data row8 col8\" >81.22%</td>\n                        <td id=\"T_80d6e7b6_f7b7_11ea_a44b_f40f2417f9ecrow8_col9\" class=\"data row8 col9\" >53.54%</td>\n            </tr>\n            <tr>\n                        <th id=\"T_80d6e7b6_f7b7_11ea_a44b_f40f2417f9eclevel0_row9\" class=\"row_heading level0 row9\" >9</th>\n                        <td id=\"T_80d6e7b6_f7b7_11ea_a44b_f40f2417f9ecrow9_col0\" class=\"data row9 col0\" >Pena High School</td>\n                        <td id=\"T_80d6e7b6_f7b7_11ea_a44b_f40f2417f9ecrow9_col1\" class=\"data row9 col1\" >Charter</td>\n                        <td id=\"T_80d6e7b6_f7b7_11ea_a44b_f40f2417f9ecrow9_col2\" class=\"data row9 col2\" >962</td>\n                        <td id=\"T_80d6e7b6_f7b7_11ea_a44b_f40f2417f9ecrow9_col3\" class=\"data row9 col3\" >$585,858</td>\n                        <td id=\"T_80d6e7b6_f7b7_11ea_a44b_f40f2417f9ecrow9_col4\" class=\"data row9 col4\" >$609.00</td>\n                        <td id=\"T_80d6e7b6_f7b7_11ea_a44b_f40f2417f9ecrow9_col5\" class=\"data row9 col5\" >83.84%</td>\n                        <td id=\"T_80d6e7b6_f7b7_11ea_a44b_f40f2417f9ecrow9_col6\" class=\"data row9 col6\" >84.04%</td>\n                        <td id=\"T_80d6e7b6_f7b7_11ea_a44b_f40f2417f9ecrow9_col7\" class=\"data row9 col7\" >94.59%</td>\n                        <td id=\"T_80d6e7b6_f7b7_11ea_a44b_f40f2417f9ecrow9_col8\" class=\"data row9 col8\" >95.95%</td>\n                        <td id=\"T_80d6e7b6_f7b7_11ea_a44b_f40f2417f9ecrow9_col9\" class=\"data row9 col9\" >90.54%</td>\n            </tr>\n            <tr>\n                        <th id=\"T_80d6e7b6_f7b7_11ea_a44b_f40f2417f9eclevel0_row10\" class=\"row_heading level0 row10\" >10</th>\n                        <td id=\"T_80d6e7b6_f7b7_11ea_a44b_f40f2417f9ecrow10_col0\" class=\"data row10 col0\" >Rodriguez High School</td>\n                        <td id=\"T_80d6e7b6_f7b7_11ea_a44b_f40f2417f9ecrow10_col1\" class=\"data row10 col1\" >District</td>\n                        <td id=\"T_80d6e7b6_f7b7_11ea_a44b_f40f2417f9ecrow10_col2\" class=\"data row10 col2\" >3999</td>\n                        <td id=\"T_80d6e7b6_f7b7_11ea_a44b_f40f2417f9ecrow10_col3\" class=\"data row10 col3\" >$2,547,363</td>\n                        <td id=\"T_80d6e7b6_f7b7_11ea_a44b_f40f2417f9ecrow10_col4\" class=\"data row10 col4\" >$637.00</td>\n                        <td id=\"T_80d6e7b6_f7b7_11ea_a44b_f40f2417f9ecrow10_col5\" class=\"data row10 col5\" >76.84%</td>\n                        <td id=\"T_80d6e7b6_f7b7_11ea_a44b_f40f2417f9ecrow10_col6\" class=\"data row10 col6\" >80.74%</td>\n                        <td id=\"T_80d6e7b6_f7b7_11ea_a44b_f40f2417f9ecrow10_col7\" class=\"data row10 col7\" >66.37%</td>\n                        <td id=\"T_80d6e7b6_f7b7_11ea_a44b_f40f2417f9ecrow10_col8\" class=\"data row10 col8\" >80.22%</td>\n                        <td id=\"T_80d6e7b6_f7b7_11ea_a44b_f40f2417f9ecrow10_col9\" class=\"data row10 col9\" >52.99%</td>\n            </tr>\n            <tr>\n                        <th id=\"T_80d6e7b6_f7b7_11ea_a44b_f40f2417f9eclevel0_row11\" class=\"row_heading level0 row11\" >11</th>\n                        <td id=\"T_80d6e7b6_f7b7_11ea_a44b_f40f2417f9ecrow11_col0\" class=\"data row11 col0\" >Shelton High School</td>\n                        <td id=\"T_80d6e7b6_f7b7_11ea_a44b_f40f2417f9ecrow11_col1\" class=\"data row11 col1\" >Charter</td>\n                        <td id=\"T_80d6e7b6_f7b7_11ea_a44b_f40f2417f9ecrow11_col2\" class=\"data row11 col2\" >1761</td>\n                        <td id=\"T_80d6e7b6_f7b7_11ea_a44b_f40f2417f9ecrow11_col3\" class=\"data row11 col3\" >$1,056,600</td>\n                        <td id=\"T_80d6e7b6_f7b7_11ea_a44b_f40f2417f9ecrow11_col4\" class=\"data row11 col4\" >$600.00</td>\n                        <td id=\"T_80d6e7b6_f7b7_11ea_a44b_f40f2417f9ecrow11_col5\" class=\"data row11 col5\" >83.36%</td>\n                        <td id=\"T_80d6e7b6_f7b7_11ea_a44b_f40f2417f9ecrow11_col6\" class=\"data row11 col6\" >83.73%</td>\n                        <td id=\"T_80d6e7b6_f7b7_11ea_a44b_f40f2417f9ecrow11_col7\" class=\"data row11 col7\" >93.87%</td>\n                        <td id=\"T_80d6e7b6_f7b7_11ea_a44b_f40f2417f9ecrow11_col8\" class=\"data row11 col8\" >95.85%</td>\n                        <td id=\"T_80d6e7b6_f7b7_11ea_a44b_f40f2417f9ecrow11_col9\" class=\"data row11 col9\" >89.89%</td>\n            </tr>\n            <tr>\n                        <th id=\"T_80d6e7b6_f7b7_11ea_a44b_f40f2417f9eclevel0_row12\" class=\"row_heading level0 row12\" >12</th>\n                        <td id=\"T_80d6e7b6_f7b7_11ea_a44b_f40f2417f9ecrow12_col0\" class=\"data row12 col0\" >Thomas High School</td>\n                        <td id=\"T_80d6e7b6_f7b7_11ea_a44b_f40f2417f9ecrow12_col1\" class=\"data row12 col1\" >Charter</td>\n                        <td id=\"T_80d6e7b6_f7b7_11ea_a44b_f40f2417f9ecrow12_col2\" class=\"data row12 col2\" >1635</td>\n                        <td id=\"T_80d6e7b6_f7b7_11ea_a44b_f40f2417f9ecrow12_col3\" class=\"data row12 col3\" >$1,043,130</td>\n                        <td id=\"T_80d6e7b6_f7b7_11ea_a44b_f40f2417f9ecrow12_col4\" class=\"data row12 col4\" >$638.00</td>\n                        <td id=\"T_80d6e7b6_f7b7_11ea_a44b_f40f2417f9ecrow12_col5\" class=\"data row12 col5\" >83.42%</td>\n                        <td id=\"T_80d6e7b6_f7b7_11ea_a44b_f40f2417f9ecrow12_col6\" class=\"data row12 col6\" >83.85%</td>\n                        <td id=\"T_80d6e7b6_f7b7_11ea_a44b_f40f2417f9ecrow12_col7\" class=\"data row12 col7\" >93.27%</td>\n                        <td id=\"T_80d6e7b6_f7b7_11ea_a44b_f40f2417f9ecrow12_col8\" class=\"data row12 col8\" >97.31%</td>\n                        <td id=\"T_80d6e7b6_f7b7_11ea_a44b_f40f2417f9ecrow12_col9\" class=\"data row12 col9\" >90.95%</td>\n            </tr>\n            <tr>\n                        <th id=\"T_80d6e7b6_f7b7_11ea_a44b_f40f2417f9eclevel0_row13\" class=\"row_heading level0 row13\" >13</th>\n                        <td id=\"T_80d6e7b6_f7b7_11ea_a44b_f40f2417f9ecrow13_col0\" class=\"data row13 col0\" >Wilson High School</td>\n                        <td id=\"T_80d6e7b6_f7b7_11ea_a44b_f40f2417f9ecrow13_col1\" class=\"data row13 col1\" >Charter</td>\n                        <td id=\"T_80d6e7b6_f7b7_11ea_a44b_f40f2417f9ecrow13_col2\" class=\"data row13 col2\" >2283</td>\n                        <td id=\"T_80d6e7b6_f7b7_11ea_a44b_f40f2417f9ecrow13_col3\" class=\"data row13 col3\" >$1,319,574</td>\n                        <td id=\"T_80d6e7b6_f7b7_11ea_a44b_f40f2417f9ecrow13_col4\" class=\"data row13 col4\" >$578.00</td>\n                        <td id=\"T_80d6e7b6_f7b7_11ea_a44b_f40f2417f9ecrow13_col5\" class=\"data row13 col5\" >83.27%</td>\n                        <td id=\"T_80d6e7b6_f7b7_11ea_a44b_f40f2417f9ecrow13_col6\" class=\"data row13 col6\" >83.99%</td>\n                        <td id=\"T_80d6e7b6_f7b7_11ea_a44b_f40f2417f9ecrow13_col7\" class=\"data row13 col7\" >93.87%</td>\n                        <td id=\"T_80d6e7b6_f7b7_11ea_a44b_f40f2417f9ecrow13_col8\" class=\"data row13 col8\" >96.54%</td>\n                        <td id=\"T_80d6e7b6_f7b7_11ea_a44b_f40f2417f9ecrow13_col9\" class=\"data row13 col9\" >90.58%</td>\n            </tr>\n            <tr>\n                        <th id=\"T_80d6e7b6_f7b7_11ea_a44b_f40f2417f9eclevel0_row14\" class=\"row_heading level0 row14\" >14</th>\n                        <td id=\"T_80d6e7b6_f7b7_11ea_a44b_f40f2417f9ecrow14_col0\" class=\"data row14 col0\" >Wright High School</td>\n                        <td id=\"T_80d6e7b6_f7b7_11ea_a44b_f40f2417f9ecrow14_col1\" class=\"data row14 col1\" >Charter</td>\n                        <td id=\"T_80d6e7b6_f7b7_11ea_a44b_f40f2417f9ecrow14_col2\" class=\"data row14 col2\" >1800</td>\n                        <td id=\"T_80d6e7b6_f7b7_11ea_a44b_f40f2417f9ecrow14_col3\" class=\"data row14 col3\" >$1,049,400</td>\n                        <td id=\"T_80d6e7b6_f7b7_11ea_a44b_f40f2417f9ecrow14_col4\" class=\"data row14 col4\" >$583.00</td>\n                        <td id=\"T_80d6e7b6_f7b7_11ea_a44b_f40f2417f9ecrow14_col5\" class=\"data row14 col5\" >83.68%</td>\n                        <td id=\"T_80d6e7b6_f7b7_11ea_a44b_f40f2417f9ecrow14_col6\" class=\"data row14 col6\" >83.95%</td>\n                        <td id=\"T_80d6e7b6_f7b7_11ea_a44b_f40f2417f9ecrow14_col7\" class=\"data row14 col7\" >93.33%</td>\n                        <td id=\"T_80d6e7b6_f7b7_11ea_a44b_f40f2417f9ecrow14_col8\" class=\"data row14 col8\" >96.61%</td>\n                        <td id=\"T_80d6e7b6_f7b7_11ea_a44b_f40f2417f9ecrow14_col9\" class=\"data row14 col9\" >90.33%</td>\n            </tr>\n    </tbody></table>"
     },
     "metadata": {},
     "execution_count": 3
    }
   ],
   "source": [
    "#create a grouped data frame\n",
    "grouped_df = school_data_complete.groupby([\"school_name\", \"type\", \"budget\"])\n",
    "\n",
    "#create a function to apply on the grouped data frame\n",
    "f = {\"student_name\" : \"count\", \"math_score\" : \"mean\", \"reading_score\" : \"mean\"}\n",
    "summary2_df = grouped_df.agg(f)\n",
    "summary2_df = summary2_df.reset_index()\n",
    "summary2_df[\"Per Student Budget\"] = (summary2_df[\"budget\"])/(summary2_df[\"student_name\"])\n",
    "summary2_df = summary2_df.rename( {\"math_score\" : \"Average Math Score\", \n",
    "                                   \"reading_score\" :\"Average Reading Score\", \n",
    "                                   'type': \"School Type\", 'student_name': \"Total Students\",\n",
    "                                   'budget' : \"Total School Budget\"}, axis = 1)\n",
    "#create athe grouped data for the count of student with a pass score in math and reading\n",
    "a = math_pass.groupby([\"school_name\"])[\"math_score\"].count()\n",
    "b = reading_pass.groupby([\"school_name\"])[\"math_score\"].count()\n",
    "c = overall_pass.groupby([\"school_name\"])[\"math_score\"].count()\n",
    "\n",
    "#calculation for passing % and create a data frame to merge\n",
    "math = pd.DataFrame(a/list(summary2_df[\"Total Students\"]))\n",
    "reading = pd.DataFrame(b/list(summary2_df[\"Total Students\"]))\n",
    "overall = pd.DataFrame(c/list(summary2_df[\"Total Students\"]))\n",
    "#merge the 3 dataframes for the passing scores\n",
    "summary3 = pd.merge(pd.merge(math, reading, on = \"school_name\"), overall, on = \"school_name\")\n",
    "#merge the 2 dataframes to create the final data frame\n",
    "summary_final_df = pd.merge(summary2_df, summary3, on = \"school_name\")\n",
    "#formatting\n",
    "summary_final_df = summary_final_df[['school_name', 'School Type', 'Total Students','Total School Budget', \n",
    "                                     'Per Student Budget', 'Average Math Score','Average Reading Score', \n",
    "                                     'math_score_x', 'math_score_y','math_score']]\n",
    "summary_final_df = summary_final_df.rename({'school_name' : \"School Names\",\n",
    "                                            'math_score_x' : \"% Passing Math\", \n",
    "                                            'math_score_y' :\"% Passing Reading\",\n",
    "                                            'math_score': \"% Overall Passing\"}, axis = 1)\n",
    "#store the dataframe unstyled summary_final_df for reuse\n",
    "summary_final1_df = summary_final_df\n",
    "summary_final1_df = summary_final1_df.style.format({'Total School Budget' : \"${:,}\",\n",
    "                                                  'Per Student Budget': \"${:,.2f}\",\n",
    "                                                  'Average Math Score' : \"{:.2f}%\", \n",
    "                                                  'Average Reading Score' : \"{:.2f}%\",\n",
    "                                                  '% Passing Math' : \"{:.2%}\", \n",
    "                                                  '% Passing Reading' : \"{:.2%}\",\n",
    "                                                  '% Overall Passing' : \"{:.2%}\"})\n",
    "\n",
    "summary_final1_df"
   ]
  },
  {
   "cell_type": "markdown",
   "metadata": {},
   "source": [
    "## Top Performing Schools (By % Overall Passing)"
   ]
  },
  {
   "cell_type": "markdown",
   "metadata": {},
   "source": [
    "* Sort and display the top five performing schools by % overall passing."
   ]
  },
  {
   "cell_type": "code",
   "execution_count": 4,
   "metadata": {
    "scrolled": true
   },
   "outputs": [
    {
     "output_type": "execute_result",
     "data": {
      "text/plain": "<pandas.io.formats.style.Styler at 0x7fae42d6ec18>",
      "text/html": "<style  type=\"text/css\" >\n</style><table id=\"T_8587c0fa_f7b7_11ea_abac_f40f2417f9ec\" ><thead>    <tr>        <th class=\"blank level0\" ></th>        <th class=\"col_heading level0 col0\" >School Names</th>        <th class=\"col_heading level0 col1\" >School Type</th>        <th class=\"col_heading level0 col2\" >Total Students</th>        <th class=\"col_heading level0 col3\" >Total School Budget</th>        <th class=\"col_heading level0 col4\" >Per Student Budget</th>        <th class=\"col_heading level0 col5\" >Average Math Score</th>        <th class=\"col_heading level0 col6\" >Average Reading Score</th>        <th class=\"col_heading level0 col7\" >% Passing Math</th>        <th class=\"col_heading level0 col8\" >% Passing Reading</th>        <th class=\"col_heading level0 col9\" >% Overall Passing</th>    </tr></thead><tbody>\n                <tr>\n                        <th id=\"T_8587c0fa_f7b7_11ea_abac_f40f2417f9eclevel0_row0\" class=\"row_heading level0 row0\" >1</th>\n                        <td id=\"T_8587c0fa_f7b7_11ea_abac_f40f2417f9ecrow0_col0\" class=\"data row0 col0\" >Cabrera High School</td>\n                        <td id=\"T_8587c0fa_f7b7_11ea_abac_f40f2417f9ecrow0_col1\" class=\"data row0 col1\" >Charter</td>\n                        <td id=\"T_8587c0fa_f7b7_11ea_abac_f40f2417f9ecrow0_col2\" class=\"data row0 col2\" >1858</td>\n                        <td id=\"T_8587c0fa_f7b7_11ea_abac_f40f2417f9ecrow0_col3\" class=\"data row0 col3\" >$1,081,356</td>\n                        <td id=\"T_8587c0fa_f7b7_11ea_abac_f40f2417f9ecrow0_col4\" class=\"data row0 col4\" >$582.00</td>\n                        <td id=\"T_8587c0fa_f7b7_11ea_abac_f40f2417f9ecrow0_col5\" class=\"data row0 col5\" >83.06%</td>\n                        <td id=\"T_8587c0fa_f7b7_11ea_abac_f40f2417f9ecrow0_col6\" class=\"data row0 col6\" >83.98%</td>\n                        <td id=\"T_8587c0fa_f7b7_11ea_abac_f40f2417f9ecrow0_col7\" class=\"data row0 col7\" >94.13%</td>\n                        <td id=\"T_8587c0fa_f7b7_11ea_abac_f40f2417f9ecrow0_col8\" class=\"data row0 col8\" >97.04%</td>\n                        <td id=\"T_8587c0fa_f7b7_11ea_abac_f40f2417f9ecrow0_col9\" class=\"data row0 col9\" >91.33%</td>\n            </tr>\n            <tr>\n                        <th id=\"T_8587c0fa_f7b7_11ea_abac_f40f2417f9eclevel0_row1\" class=\"row_heading level0 row1\" >12</th>\n                        <td id=\"T_8587c0fa_f7b7_11ea_abac_f40f2417f9ecrow1_col0\" class=\"data row1 col0\" >Thomas High School</td>\n                        <td id=\"T_8587c0fa_f7b7_11ea_abac_f40f2417f9ecrow1_col1\" class=\"data row1 col1\" >Charter</td>\n                        <td id=\"T_8587c0fa_f7b7_11ea_abac_f40f2417f9ecrow1_col2\" class=\"data row1 col2\" >1635</td>\n                        <td id=\"T_8587c0fa_f7b7_11ea_abac_f40f2417f9ecrow1_col3\" class=\"data row1 col3\" >$1,043,130</td>\n                        <td id=\"T_8587c0fa_f7b7_11ea_abac_f40f2417f9ecrow1_col4\" class=\"data row1 col4\" >$638.00</td>\n                        <td id=\"T_8587c0fa_f7b7_11ea_abac_f40f2417f9ecrow1_col5\" class=\"data row1 col5\" >83.42%</td>\n                        <td id=\"T_8587c0fa_f7b7_11ea_abac_f40f2417f9ecrow1_col6\" class=\"data row1 col6\" >83.85%</td>\n                        <td id=\"T_8587c0fa_f7b7_11ea_abac_f40f2417f9ecrow1_col7\" class=\"data row1 col7\" >93.27%</td>\n                        <td id=\"T_8587c0fa_f7b7_11ea_abac_f40f2417f9ecrow1_col8\" class=\"data row1 col8\" >97.31%</td>\n                        <td id=\"T_8587c0fa_f7b7_11ea_abac_f40f2417f9ecrow1_col9\" class=\"data row1 col9\" >90.95%</td>\n            </tr>\n            <tr>\n                        <th id=\"T_8587c0fa_f7b7_11ea_abac_f40f2417f9eclevel0_row2\" class=\"row_heading level0 row2\" >4</th>\n                        <td id=\"T_8587c0fa_f7b7_11ea_abac_f40f2417f9ecrow2_col0\" class=\"data row2 col0\" >Griffin High School</td>\n                        <td id=\"T_8587c0fa_f7b7_11ea_abac_f40f2417f9ecrow2_col1\" class=\"data row2 col1\" >Charter</td>\n                        <td id=\"T_8587c0fa_f7b7_11ea_abac_f40f2417f9ecrow2_col2\" class=\"data row2 col2\" >1468</td>\n                        <td id=\"T_8587c0fa_f7b7_11ea_abac_f40f2417f9ecrow2_col3\" class=\"data row2 col3\" >$917,500</td>\n                        <td id=\"T_8587c0fa_f7b7_11ea_abac_f40f2417f9ecrow2_col4\" class=\"data row2 col4\" >$625.00</td>\n                        <td id=\"T_8587c0fa_f7b7_11ea_abac_f40f2417f9ecrow2_col5\" class=\"data row2 col5\" >83.35%</td>\n                        <td id=\"T_8587c0fa_f7b7_11ea_abac_f40f2417f9ecrow2_col6\" class=\"data row2 col6\" >83.82%</td>\n                        <td id=\"T_8587c0fa_f7b7_11ea_abac_f40f2417f9ecrow2_col7\" class=\"data row2 col7\" >93.39%</td>\n                        <td id=\"T_8587c0fa_f7b7_11ea_abac_f40f2417f9ecrow2_col8\" class=\"data row2 col8\" >97.14%</td>\n                        <td id=\"T_8587c0fa_f7b7_11ea_abac_f40f2417f9ecrow2_col9\" class=\"data row2 col9\" >90.60%</td>\n            </tr>\n            <tr>\n                        <th id=\"T_8587c0fa_f7b7_11ea_abac_f40f2417f9eclevel0_row3\" class=\"row_heading level0 row3\" >13</th>\n                        <td id=\"T_8587c0fa_f7b7_11ea_abac_f40f2417f9ecrow3_col0\" class=\"data row3 col0\" >Wilson High School</td>\n                        <td id=\"T_8587c0fa_f7b7_11ea_abac_f40f2417f9ecrow3_col1\" class=\"data row3 col1\" >Charter</td>\n                        <td id=\"T_8587c0fa_f7b7_11ea_abac_f40f2417f9ecrow3_col2\" class=\"data row3 col2\" >2283</td>\n                        <td id=\"T_8587c0fa_f7b7_11ea_abac_f40f2417f9ecrow3_col3\" class=\"data row3 col3\" >$1,319,574</td>\n                        <td id=\"T_8587c0fa_f7b7_11ea_abac_f40f2417f9ecrow3_col4\" class=\"data row3 col4\" >$578.00</td>\n                        <td id=\"T_8587c0fa_f7b7_11ea_abac_f40f2417f9ecrow3_col5\" class=\"data row3 col5\" >83.27%</td>\n                        <td id=\"T_8587c0fa_f7b7_11ea_abac_f40f2417f9ecrow3_col6\" class=\"data row3 col6\" >83.99%</td>\n                        <td id=\"T_8587c0fa_f7b7_11ea_abac_f40f2417f9ecrow3_col7\" class=\"data row3 col7\" >93.87%</td>\n                        <td id=\"T_8587c0fa_f7b7_11ea_abac_f40f2417f9ecrow3_col8\" class=\"data row3 col8\" >96.54%</td>\n                        <td id=\"T_8587c0fa_f7b7_11ea_abac_f40f2417f9ecrow3_col9\" class=\"data row3 col9\" >90.58%</td>\n            </tr>\n            <tr>\n                        <th id=\"T_8587c0fa_f7b7_11ea_abac_f40f2417f9eclevel0_row4\" class=\"row_heading level0 row4\" >9</th>\n                        <td id=\"T_8587c0fa_f7b7_11ea_abac_f40f2417f9ecrow4_col0\" class=\"data row4 col0\" >Pena High School</td>\n                        <td id=\"T_8587c0fa_f7b7_11ea_abac_f40f2417f9ecrow4_col1\" class=\"data row4 col1\" >Charter</td>\n                        <td id=\"T_8587c0fa_f7b7_11ea_abac_f40f2417f9ecrow4_col2\" class=\"data row4 col2\" >962</td>\n                        <td id=\"T_8587c0fa_f7b7_11ea_abac_f40f2417f9ecrow4_col3\" class=\"data row4 col3\" >$585,858</td>\n                        <td id=\"T_8587c0fa_f7b7_11ea_abac_f40f2417f9ecrow4_col4\" class=\"data row4 col4\" >$609.00</td>\n                        <td id=\"T_8587c0fa_f7b7_11ea_abac_f40f2417f9ecrow4_col5\" class=\"data row4 col5\" >83.84%</td>\n                        <td id=\"T_8587c0fa_f7b7_11ea_abac_f40f2417f9ecrow4_col6\" class=\"data row4 col6\" >84.04%</td>\n                        <td id=\"T_8587c0fa_f7b7_11ea_abac_f40f2417f9ecrow4_col7\" class=\"data row4 col7\" >94.59%</td>\n                        <td id=\"T_8587c0fa_f7b7_11ea_abac_f40f2417f9ecrow4_col8\" class=\"data row4 col8\" >95.95%</td>\n                        <td id=\"T_8587c0fa_f7b7_11ea_abac_f40f2417f9ecrow4_col9\" class=\"data row4 col9\" >90.54%</td>\n            </tr>\n    </tbody></table>"
     },
     "metadata": {},
     "execution_count": 4
    }
   ],
   "source": [
    "summary_final2_df = summary_final_df\n",
    "\n",
    "summary_final2_df = summary_final2_df.sort_values( '% Overall Passing',ascending = False).iloc[:5]\n",
    "\n",
    "summary_final2_df = summary_final2_df.style.format({'Total School Budget' : \"${:,}\",\n",
    "                                                  'Per Student Budget': \"${:,.2f}\",\n",
    "                                                  'Average Math Score' : \"{:.2f}%\", \n",
    "                                                  'Average Reading Score' : \"{:.2f}%\",\n",
    "                                                  '% Passing Math' : \"{:.2%}\", \n",
    "                                                  '% Passing Reading' : \"{:.2%}\",\n",
    "                                                  '% Overall Passing' : \"{:.2%}\"})\n",
    "summary_final2_df"
   ]
  },
  {
   "cell_type": "markdown",
   "metadata": {},
   "source": [
    "## Bottom Performing Schools (By % Overall Passing)"
   ]
  },
  {
   "cell_type": "markdown",
   "metadata": {},
   "source": [
    "* Sort and display the five worst-performing schools by % overall passing."
   ]
  },
  {
   "cell_type": "code",
   "execution_count": 5,
   "metadata": {},
   "outputs": [
    {
     "output_type": "execute_result",
     "data": {
      "text/plain": "<pandas.io.formats.style.Styler at 0x7fae42d6e9e8>",
      "text/html": "<style  type=\"text/css\" >\n</style><table id=\"T_866778ba_f7b7_11ea_b17d_f40f2417f9ec\" ><thead>    <tr>        <th class=\"blank level0\" ></th>        <th class=\"col_heading level0 col0\" >School Names</th>        <th class=\"col_heading level0 col1\" >School Type</th>        <th class=\"col_heading level0 col2\" >Total Students</th>        <th class=\"col_heading level0 col3\" >Total School Budget</th>        <th class=\"col_heading level0 col4\" >Per Student Budget</th>        <th class=\"col_heading level0 col5\" >Average Math Score</th>        <th class=\"col_heading level0 col6\" >Average Reading Score</th>        <th class=\"col_heading level0 col7\" >% Passing Math</th>        <th class=\"col_heading level0 col8\" >% Passing Reading</th>        <th class=\"col_heading level0 col9\" >% Overall Passing</th>    </tr></thead><tbody>\n                <tr>\n                        <th id=\"T_866778ba_f7b7_11ea_b17d_f40f2417f9eclevel0_row0\" class=\"row_heading level0 row0\" >10</th>\n                        <td id=\"T_866778ba_f7b7_11ea_b17d_f40f2417f9ecrow0_col0\" class=\"data row0 col0\" >Rodriguez High School</td>\n                        <td id=\"T_866778ba_f7b7_11ea_b17d_f40f2417f9ecrow0_col1\" class=\"data row0 col1\" >District</td>\n                        <td id=\"T_866778ba_f7b7_11ea_b17d_f40f2417f9ecrow0_col2\" class=\"data row0 col2\" >3999</td>\n                        <td id=\"T_866778ba_f7b7_11ea_b17d_f40f2417f9ecrow0_col3\" class=\"data row0 col3\" >$2,547,363</td>\n                        <td id=\"T_866778ba_f7b7_11ea_b17d_f40f2417f9ecrow0_col4\" class=\"data row0 col4\" >$637.00</td>\n                        <td id=\"T_866778ba_f7b7_11ea_b17d_f40f2417f9ecrow0_col5\" class=\"data row0 col5\" >76.84%</td>\n                        <td id=\"T_866778ba_f7b7_11ea_b17d_f40f2417f9ecrow0_col6\" class=\"data row0 col6\" >80.74%</td>\n                        <td id=\"T_866778ba_f7b7_11ea_b17d_f40f2417f9ecrow0_col7\" class=\"data row0 col7\" >66.37%</td>\n                        <td id=\"T_866778ba_f7b7_11ea_b17d_f40f2417f9ecrow0_col8\" class=\"data row0 col8\" >80.22%</td>\n                        <td id=\"T_866778ba_f7b7_11ea_b17d_f40f2417f9ecrow0_col9\" class=\"data row0 col9\" >52.99%</td>\n            </tr>\n            <tr>\n                        <th id=\"T_866778ba_f7b7_11ea_b17d_f40f2417f9eclevel0_row1\" class=\"row_heading level0 row1\" >2</th>\n                        <td id=\"T_866778ba_f7b7_11ea_b17d_f40f2417f9ecrow1_col0\" class=\"data row1 col0\" >Figueroa High School</td>\n                        <td id=\"T_866778ba_f7b7_11ea_b17d_f40f2417f9ecrow1_col1\" class=\"data row1 col1\" >District</td>\n                        <td id=\"T_866778ba_f7b7_11ea_b17d_f40f2417f9ecrow1_col2\" class=\"data row1 col2\" >2949</td>\n                        <td id=\"T_866778ba_f7b7_11ea_b17d_f40f2417f9ecrow1_col3\" class=\"data row1 col3\" >$1,884,411</td>\n                        <td id=\"T_866778ba_f7b7_11ea_b17d_f40f2417f9ecrow1_col4\" class=\"data row1 col4\" >$639.00</td>\n                        <td id=\"T_866778ba_f7b7_11ea_b17d_f40f2417f9ecrow1_col5\" class=\"data row1 col5\" >76.71%</td>\n                        <td id=\"T_866778ba_f7b7_11ea_b17d_f40f2417f9ecrow1_col6\" class=\"data row1 col6\" >81.16%</td>\n                        <td id=\"T_866778ba_f7b7_11ea_b17d_f40f2417f9ecrow1_col7\" class=\"data row1 col7\" >65.99%</td>\n                        <td id=\"T_866778ba_f7b7_11ea_b17d_f40f2417f9ecrow1_col8\" class=\"data row1 col8\" >80.74%</td>\n                        <td id=\"T_866778ba_f7b7_11ea_b17d_f40f2417f9ecrow1_col9\" class=\"data row1 col9\" >53.20%</td>\n            </tr>\n            <tr>\n                        <th id=\"T_866778ba_f7b7_11ea_b17d_f40f2417f9eclevel0_row2\" class=\"row_heading level0 row2\" >7</th>\n                        <td id=\"T_866778ba_f7b7_11ea_b17d_f40f2417f9ecrow2_col0\" class=\"data row2 col0\" >Huang High School</td>\n                        <td id=\"T_866778ba_f7b7_11ea_b17d_f40f2417f9ecrow2_col1\" class=\"data row2 col1\" >District</td>\n                        <td id=\"T_866778ba_f7b7_11ea_b17d_f40f2417f9ecrow2_col2\" class=\"data row2 col2\" >2917</td>\n                        <td id=\"T_866778ba_f7b7_11ea_b17d_f40f2417f9ecrow2_col3\" class=\"data row2 col3\" >$1,910,635</td>\n                        <td id=\"T_866778ba_f7b7_11ea_b17d_f40f2417f9ecrow2_col4\" class=\"data row2 col4\" >$655.00</td>\n                        <td id=\"T_866778ba_f7b7_11ea_b17d_f40f2417f9ecrow2_col5\" class=\"data row2 col5\" >76.63%</td>\n                        <td id=\"T_866778ba_f7b7_11ea_b17d_f40f2417f9ecrow2_col6\" class=\"data row2 col6\" >81.18%</td>\n                        <td id=\"T_866778ba_f7b7_11ea_b17d_f40f2417f9ecrow2_col7\" class=\"data row2 col7\" >65.68%</td>\n                        <td id=\"T_866778ba_f7b7_11ea_b17d_f40f2417f9ecrow2_col8\" class=\"data row2 col8\" >81.32%</td>\n                        <td id=\"T_866778ba_f7b7_11ea_b17d_f40f2417f9ecrow2_col9\" class=\"data row2 col9\" >53.51%</td>\n            </tr>\n            <tr>\n                        <th id=\"T_866778ba_f7b7_11ea_b17d_f40f2417f9eclevel0_row3\" class=\"row_heading level0 row3\" >5</th>\n                        <td id=\"T_866778ba_f7b7_11ea_b17d_f40f2417f9ecrow3_col0\" class=\"data row3 col0\" >Hernandez High School</td>\n                        <td id=\"T_866778ba_f7b7_11ea_b17d_f40f2417f9ecrow3_col1\" class=\"data row3 col1\" >District</td>\n                        <td id=\"T_866778ba_f7b7_11ea_b17d_f40f2417f9ecrow3_col2\" class=\"data row3 col2\" >4635</td>\n                        <td id=\"T_866778ba_f7b7_11ea_b17d_f40f2417f9ecrow3_col3\" class=\"data row3 col3\" >$3,022,020</td>\n                        <td id=\"T_866778ba_f7b7_11ea_b17d_f40f2417f9ecrow3_col4\" class=\"data row3 col4\" >$652.00</td>\n                        <td id=\"T_866778ba_f7b7_11ea_b17d_f40f2417f9ecrow3_col5\" class=\"data row3 col5\" >77.29%</td>\n                        <td id=\"T_866778ba_f7b7_11ea_b17d_f40f2417f9ecrow3_col6\" class=\"data row3 col6\" >80.93%</td>\n                        <td id=\"T_866778ba_f7b7_11ea_b17d_f40f2417f9ecrow3_col7\" class=\"data row3 col7\" >66.75%</td>\n                        <td id=\"T_866778ba_f7b7_11ea_b17d_f40f2417f9ecrow3_col8\" class=\"data row3 col8\" >80.86%</td>\n                        <td id=\"T_866778ba_f7b7_11ea_b17d_f40f2417f9ecrow3_col9\" class=\"data row3 col9\" >53.53%</td>\n            </tr>\n            <tr>\n                        <th id=\"T_866778ba_f7b7_11ea_b17d_f40f2417f9eclevel0_row4\" class=\"row_heading level0 row4\" >8</th>\n                        <td id=\"T_866778ba_f7b7_11ea_b17d_f40f2417f9ecrow4_col0\" class=\"data row4 col0\" >Johnson High School</td>\n                        <td id=\"T_866778ba_f7b7_11ea_b17d_f40f2417f9ecrow4_col1\" class=\"data row4 col1\" >District</td>\n                        <td id=\"T_866778ba_f7b7_11ea_b17d_f40f2417f9ecrow4_col2\" class=\"data row4 col2\" >4761</td>\n                        <td id=\"T_866778ba_f7b7_11ea_b17d_f40f2417f9ecrow4_col3\" class=\"data row4 col3\" >$3,094,650</td>\n                        <td id=\"T_866778ba_f7b7_11ea_b17d_f40f2417f9ecrow4_col4\" class=\"data row4 col4\" >$650.00</td>\n                        <td id=\"T_866778ba_f7b7_11ea_b17d_f40f2417f9ecrow4_col5\" class=\"data row4 col5\" >77.07%</td>\n                        <td id=\"T_866778ba_f7b7_11ea_b17d_f40f2417f9ecrow4_col6\" class=\"data row4 col6\" >80.97%</td>\n                        <td id=\"T_866778ba_f7b7_11ea_b17d_f40f2417f9ecrow4_col7\" class=\"data row4 col7\" >66.06%</td>\n                        <td id=\"T_866778ba_f7b7_11ea_b17d_f40f2417f9ecrow4_col8\" class=\"data row4 col8\" >81.22%</td>\n                        <td id=\"T_866778ba_f7b7_11ea_b17d_f40f2417f9ecrow4_col9\" class=\"data row4 col9\" >53.54%</td>\n            </tr>\n    </tbody></table>"
     },
     "metadata": {},
     "execution_count": 5
    }
   ],
   "source": [
    "summary_final3_df = summary_final_df\n",
    "\n",
    "summary_final3_df = summary_final3_df.sort_values( '% Overall Passing').iloc[:5]\n",
    "\n",
    "summary_final3_df = summary_final3_df.style.format({'Total School Budget' : \"${:,}\",\n",
    "                                                  'Per Student Budget': \"${:,.2f}\",\n",
    "                                                  'Average Math Score' : \"{:.2f}%\", \n",
    "                                                  'Average Reading Score' : \"{:.2f}%\",\n",
    "                                                  '% Passing Math' : \"{:.2%}\", \n",
    "                                                  '% Passing Reading' : \"{:.2%}\",\n",
    "                                                  '% Overall Passing' : \"{:.2%}\"})\n",
    "summary_final3_df"
   ]
  },
  {
   "cell_type": "markdown",
   "metadata": {
    "collapsed": true
   },
   "source": [
    "## Math Scores by Grade"
   ]
  },
  {
   "cell_type": "markdown",
   "metadata": {},
   "source": [
    "* Create a table that lists the average Reading Score for students of each grade level (9th, 10th, 11th, 12th) at each school.\n",
    "\n",
    "  * Create a pandas series for each grade. Hint: use a conditional statement.\n",
    "  \n",
    "  * Group each series by school\n",
    "  \n",
    "  * Combine the series into a dataframe\n",
    "  \n",
    "  * Optional: give the displayed data cleaner formatting"
   ]
  },
  {
   "cell_type": "code",
   "execution_count": 6,
   "metadata": {},
   "outputs": [
    {
     "output_type": "execute_result",
     "data": {
      "text/plain": "<pandas.io.formats.style.Styler at 0x7fae434494e0>",
      "text/html": "<style  type=\"text/css\" >\n</style><table id=\"T_873cf00a_f7b7_11ea_b0fd_f40f2417f9ec\" ><thead>    <tr>        <th class=\"blank level0\" ></th>        <th class=\"col_heading level0 col0\" >9th</th>        <th class=\"col_heading level0 col1\" >10th</th>        <th class=\"col_heading level0 col2\" >11th</th>        <th class=\"col_heading level0 col3\" >12th</th>    </tr>    <tr>        <th class=\"index_name level0\" >school_name</th>        <th class=\"blank\" ></th>        <th class=\"blank\" ></th>        <th class=\"blank\" ></th>        <th class=\"blank\" ></th>    </tr></thead><tbody>\n                <tr>\n                        <th id=\"T_873cf00a_f7b7_11ea_b0fd_f40f2417f9eclevel0_row0\" class=\"row_heading level0 row0\" >Bailey High School</th>\n                        <td id=\"T_873cf00a_f7b7_11ea_b0fd_f40f2417f9ecrow0_col0\" class=\"data row0 col0\" >77.08%</td>\n                        <td id=\"T_873cf00a_f7b7_11ea_b0fd_f40f2417f9ecrow0_col1\" class=\"data row0 col1\" >77.00%</td>\n                        <td id=\"T_873cf00a_f7b7_11ea_b0fd_f40f2417f9ecrow0_col2\" class=\"data row0 col2\" >77.52%</td>\n                        <td id=\"T_873cf00a_f7b7_11ea_b0fd_f40f2417f9ecrow0_col3\" class=\"data row0 col3\" >76.49%</td>\n            </tr>\n            <tr>\n                        <th id=\"T_873cf00a_f7b7_11ea_b0fd_f40f2417f9eclevel0_row1\" class=\"row_heading level0 row1\" >Cabrera High School</th>\n                        <td id=\"T_873cf00a_f7b7_11ea_b0fd_f40f2417f9ecrow1_col0\" class=\"data row1 col0\" >83.09%</td>\n                        <td id=\"T_873cf00a_f7b7_11ea_b0fd_f40f2417f9ecrow1_col1\" class=\"data row1 col1\" >83.15%</td>\n                        <td id=\"T_873cf00a_f7b7_11ea_b0fd_f40f2417f9ecrow1_col2\" class=\"data row1 col2\" >82.77%</td>\n                        <td id=\"T_873cf00a_f7b7_11ea_b0fd_f40f2417f9ecrow1_col3\" class=\"data row1 col3\" >83.28%</td>\n            </tr>\n            <tr>\n                        <th id=\"T_873cf00a_f7b7_11ea_b0fd_f40f2417f9eclevel0_row2\" class=\"row_heading level0 row2\" >Figueroa High School</th>\n                        <td id=\"T_873cf00a_f7b7_11ea_b0fd_f40f2417f9ecrow2_col0\" class=\"data row2 col0\" >76.40%</td>\n                        <td id=\"T_873cf00a_f7b7_11ea_b0fd_f40f2417f9ecrow2_col1\" class=\"data row2 col1\" >76.54%</td>\n                        <td id=\"T_873cf00a_f7b7_11ea_b0fd_f40f2417f9ecrow2_col2\" class=\"data row2 col2\" >76.88%</td>\n                        <td id=\"T_873cf00a_f7b7_11ea_b0fd_f40f2417f9ecrow2_col3\" class=\"data row2 col3\" >77.15%</td>\n            </tr>\n            <tr>\n                        <th id=\"T_873cf00a_f7b7_11ea_b0fd_f40f2417f9eclevel0_row3\" class=\"row_heading level0 row3\" >Ford High School</th>\n                        <td id=\"T_873cf00a_f7b7_11ea_b0fd_f40f2417f9ecrow3_col0\" class=\"data row3 col0\" >77.36%</td>\n                        <td id=\"T_873cf00a_f7b7_11ea_b0fd_f40f2417f9ecrow3_col1\" class=\"data row3 col1\" >77.67%</td>\n                        <td id=\"T_873cf00a_f7b7_11ea_b0fd_f40f2417f9ecrow3_col2\" class=\"data row3 col2\" >76.92%</td>\n                        <td id=\"T_873cf00a_f7b7_11ea_b0fd_f40f2417f9ecrow3_col3\" class=\"data row3 col3\" >76.18%</td>\n            </tr>\n            <tr>\n                        <th id=\"T_873cf00a_f7b7_11ea_b0fd_f40f2417f9eclevel0_row4\" class=\"row_heading level0 row4\" >Griffin High School</th>\n                        <td id=\"T_873cf00a_f7b7_11ea_b0fd_f40f2417f9ecrow4_col0\" class=\"data row4 col0\" >82.04%</td>\n                        <td id=\"T_873cf00a_f7b7_11ea_b0fd_f40f2417f9ecrow4_col1\" class=\"data row4 col1\" >84.23%</td>\n                        <td id=\"T_873cf00a_f7b7_11ea_b0fd_f40f2417f9ecrow4_col2\" class=\"data row4 col2\" >83.84%</td>\n                        <td id=\"T_873cf00a_f7b7_11ea_b0fd_f40f2417f9ecrow4_col3\" class=\"data row4 col3\" >83.36%</td>\n            </tr>\n            <tr>\n                        <th id=\"T_873cf00a_f7b7_11ea_b0fd_f40f2417f9eclevel0_row5\" class=\"row_heading level0 row5\" >Hernandez High School</th>\n                        <td id=\"T_873cf00a_f7b7_11ea_b0fd_f40f2417f9ecrow5_col0\" class=\"data row5 col0\" >77.44%</td>\n                        <td id=\"T_873cf00a_f7b7_11ea_b0fd_f40f2417f9ecrow5_col1\" class=\"data row5 col1\" >77.34%</td>\n                        <td id=\"T_873cf00a_f7b7_11ea_b0fd_f40f2417f9ecrow5_col2\" class=\"data row5 col2\" >77.14%</td>\n                        <td id=\"T_873cf00a_f7b7_11ea_b0fd_f40f2417f9ecrow5_col3\" class=\"data row5 col3\" >77.19%</td>\n            </tr>\n            <tr>\n                        <th id=\"T_873cf00a_f7b7_11ea_b0fd_f40f2417f9eclevel0_row6\" class=\"row_heading level0 row6\" >Holden High School</th>\n                        <td id=\"T_873cf00a_f7b7_11ea_b0fd_f40f2417f9ecrow6_col0\" class=\"data row6 col0\" >83.79%</td>\n                        <td id=\"T_873cf00a_f7b7_11ea_b0fd_f40f2417f9ecrow6_col1\" class=\"data row6 col1\" >83.43%</td>\n                        <td id=\"T_873cf00a_f7b7_11ea_b0fd_f40f2417f9ecrow6_col2\" class=\"data row6 col2\" >85.00%</td>\n                        <td id=\"T_873cf00a_f7b7_11ea_b0fd_f40f2417f9ecrow6_col3\" class=\"data row6 col3\" >82.86%</td>\n            </tr>\n            <tr>\n                        <th id=\"T_873cf00a_f7b7_11ea_b0fd_f40f2417f9eclevel0_row7\" class=\"row_heading level0 row7\" >Huang High School</th>\n                        <td id=\"T_873cf00a_f7b7_11ea_b0fd_f40f2417f9ecrow7_col0\" class=\"data row7 col0\" >77.03%</td>\n                        <td id=\"T_873cf00a_f7b7_11ea_b0fd_f40f2417f9ecrow7_col1\" class=\"data row7 col1\" >75.91%</td>\n                        <td id=\"T_873cf00a_f7b7_11ea_b0fd_f40f2417f9ecrow7_col2\" class=\"data row7 col2\" >76.45%</td>\n                        <td id=\"T_873cf00a_f7b7_11ea_b0fd_f40f2417f9ecrow7_col3\" class=\"data row7 col3\" >77.23%</td>\n            </tr>\n            <tr>\n                        <th id=\"T_873cf00a_f7b7_11ea_b0fd_f40f2417f9eclevel0_row8\" class=\"row_heading level0 row8\" >Johnson High School</th>\n                        <td id=\"T_873cf00a_f7b7_11ea_b0fd_f40f2417f9ecrow8_col0\" class=\"data row8 col0\" >77.19%</td>\n                        <td id=\"T_873cf00a_f7b7_11ea_b0fd_f40f2417f9ecrow8_col1\" class=\"data row8 col1\" >76.69%</td>\n                        <td id=\"T_873cf00a_f7b7_11ea_b0fd_f40f2417f9ecrow8_col2\" class=\"data row8 col2\" >77.49%</td>\n                        <td id=\"T_873cf00a_f7b7_11ea_b0fd_f40f2417f9ecrow8_col3\" class=\"data row8 col3\" >76.86%</td>\n            </tr>\n            <tr>\n                        <th id=\"T_873cf00a_f7b7_11ea_b0fd_f40f2417f9eclevel0_row9\" class=\"row_heading level0 row9\" >Pena High School</th>\n                        <td id=\"T_873cf00a_f7b7_11ea_b0fd_f40f2417f9ecrow9_col0\" class=\"data row9 col0\" >83.63%</td>\n                        <td id=\"T_873cf00a_f7b7_11ea_b0fd_f40f2417f9ecrow9_col1\" class=\"data row9 col1\" >83.37%</td>\n                        <td id=\"T_873cf00a_f7b7_11ea_b0fd_f40f2417f9ecrow9_col2\" class=\"data row9 col2\" >84.33%</td>\n                        <td id=\"T_873cf00a_f7b7_11ea_b0fd_f40f2417f9ecrow9_col3\" class=\"data row9 col3\" >84.12%</td>\n            </tr>\n            <tr>\n                        <th id=\"T_873cf00a_f7b7_11ea_b0fd_f40f2417f9eclevel0_row10\" class=\"row_heading level0 row10\" >Rodriguez High School</th>\n                        <td id=\"T_873cf00a_f7b7_11ea_b0fd_f40f2417f9ecrow10_col0\" class=\"data row10 col0\" >76.86%</td>\n                        <td id=\"T_873cf00a_f7b7_11ea_b0fd_f40f2417f9ecrow10_col1\" class=\"data row10 col1\" >76.61%</td>\n                        <td id=\"T_873cf00a_f7b7_11ea_b0fd_f40f2417f9ecrow10_col2\" class=\"data row10 col2\" >76.40%</td>\n                        <td id=\"T_873cf00a_f7b7_11ea_b0fd_f40f2417f9ecrow10_col3\" class=\"data row10 col3\" >77.69%</td>\n            </tr>\n            <tr>\n                        <th id=\"T_873cf00a_f7b7_11ea_b0fd_f40f2417f9eclevel0_row11\" class=\"row_heading level0 row11\" >Shelton High School</th>\n                        <td id=\"T_873cf00a_f7b7_11ea_b0fd_f40f2417f9ecrow11_col0\" class=\"data row11 col0\" >83.42%</td>\n                        <td id=\"T_873cf00a_f7b7_11ea_b0fd_f40f2417f9ecrow11_col1\" class=\"data row11 col1\" >82.92%</td>\n                        <td id=\"T_873cf00a_f7b7_11ea_b0fd_f40f2417f9ecrow11_col2\" class=\"data row11 col2\" >83.38%</td>\n                        <td id=\"T_873cf00a_f7b7_11ea_b0fd_f40f2417f9ecrow11_col3\" class=\"data row11 col3\" >83.78%</td>\n            </tr>\n            <tr>\n                        <th id=\"T_873cf00a_f7b7_11ea_b0fd_f40f2417f9eclevel0_row12\" class=\"row_heading level0 row12\" >Thomas High School</th>\n                        <td id=\"T_873cf00a_f7b7_11ea_b0fd_f40f2417f9ecrow12_col0\" class=\"data row12 col0\" >83.59%</td>\n                        <td id=\"T_873cf00a_f7b7_11ea_b0fd_f40f2417f9ecrow12_col1\" class=\"data row12 col1\" >83.09%</td>\n                        <td id=\"T_873cf00a_f7b7_11ea_b0fd_f40f2417f9ecrow12_col2\" class=\"data row12 col2\" >83.50%</td>\n                        <td id=\"T_873cf00a_f7b7_11ea_b0fd_f40f2417f9ecrow12_col3\" class=\"data row12 col3\" >83.50%</td>\n            </tr>\n            <tr>\n                        <th id=\"T_873cf00a_f7b7_11ea_b0fd_f40f2417f9eclevel0_row13\" class=\"row_heading level0 row13\" >Wilson High School</th>\n                        <td id=\"T_873cf00a_f7b7_11ea_b0fd_f40f2417f9ecrow13_col0\" class=\"data row13 col0\" >83.09%</td>\n                        <td id=\"T_873cf00a_f7b7_11ea_b0fd_f40f2417f9ecrow13_col1\" class=\"data row13 col1\" >83.72%</td>\n                        <td id=\"T_873cf00a_f7b7_11ea_b0fd_f40f2417f9ecrow13_col2\" class=\"data row13 col2\" >83.20%</td>\n                        <td id=\"T_873cf00a_f7b7_11ea_b0fd_f40f2417f9ecrow13_col3\" class=\"data row13 col3\" >83.04%</td>\n            </tr>\n            <tr>\n                        <th id=\"T_873cf00a_f7b7_11ea_b0fd_f40f2417f9eclevel0_row14\" class=\"row_heading level0 row14\" >Wright High School</th>\n                        <td id=\"T_873cf00a_f7b7_11ea_b0fd_f40f2417f9ecrow14_col0\" class=\"data row14 col0\" >83.26%</td>\n                        <td id=\"T_873cf00a_f7b7_11ea_b0fd_f40f2417f9ecrow14_col1\" class=\"data row14 col1\" >84.01%</td>\n                        <td id=\"T_873cf00a_f7b7_11ea_b0fd_f40f2417f9ecrow14_col2\" class=\"data row14 col2\" >83.84%</td>\n                        <td id=\"T_873cf00a_f7b7_11ea_b0fd_f40f2417f9ecrow14_col3\" class=\"data row14 col3\" >83.64%</td>\n            </tr>\n    </tbody></table>"
     },
     "metadata": {},
     "execution_count": 6
    }
   ],
   "source": [
    "summary4_df = pd.DataFrame()\n",
    "#groupbygrade  \n",
    "summary4_df[\"9th\"] = school_data_complete[(school_data_complete[\"grade\"] == \"9th\")].groupby(\"school_name\")[\"math_score\"].mean()\n",
    "summary4_df[\"10th\"] = school_data_complete[school_data_complete[\"grade\"] == \"10th\"].groupby(\"school_name\")[\"math_score\"].mean()\n",
    "summary4_df[\"11th\"] = school_data_complete[school_data_complete[\"grade\"] == \"11th\"].groupby(\"school_name\")[\"math_score\"].mean()\n",
    "summary4_df[\"12th\"] = school_data_complete[school_data_complete[\"grade\"] == \"12th\"].groupby(\"school_name\")[\"math_score\"].mean()\n",
    "#formatting\n",
    "summary4_df = summary4_df.style.format({\"9th\" : \"{:.2f}%\",\n",
    "                                        \"10th\" : \"{:.2f}%\", \n",
    "                                        \"11th\" : \"{:.2f}%\",\n",
    "                                        \"12th\" : \"{:.2f}%\"})\n",
    "summary4_df"
   ]
  },
  {
   "cell_type": "markdown",
   "metadata": {},
   "source": [
    "## Reading Score by Grade "
   ]
  },
  {
   "cell_type": "markdown",
   "metadata": {},
   "source": [
    "* Perform the same operations as above for reading scores"
   ]
  },
  {
   "cell_type": "code",
   "execution_count": 7,
   "metadata": {},
   "outputs": [
    {
     "output_type": "execute_result",
     "data": {
      "text/plain": "<pandas.io.formats.style.Styler at 0x7fae3f721d30>",
      "text/html": "<style  type=\"text/css\" >\n</style><table id=\"T_87c5a030_f7b7_11ea_957b_f40f2417f9ec\" ><thead>    <tr>        <th class=\"blank level0\" ></th>        <th class=\"col_heading level0 col0\" >9th</th>        <th class=\"col_heading level0 col1\" >10th</th>        <th class=\"col_heading level0 col2\" >11th</th>        <th class=\"col_heading level0 col3\" >12th</th>    </tr>    <tr>        <th class=\"index_name level0\" >school_name</th>        <th class=\"blank\" ></th>        <th class=\"blank\" ></th>        <th class=\"blank\" ></th>        <th class=\"blank\" ></th>    </tr></thead><tbody>\n                <tr>\n                        <th id=\"T_87c5a030_f7b7_11ea_957b_f40f2417f9eclevel0_row0\" class=\"row_heading level0 row0\" >Bailey High School</th>\n                        <td id=\"T_87c5a030_f7b7_11ea_957b_f40f2417f9ecrow0_col0\" class=\"data row0 col0\" >81.30%</td>\n                        <td id=\"T_87c5a030_f7b7_11ea_957b_f40f2417f9ecrow0_col1\" class=\"data row0 col1\" >80.91%</td>\n                        <td id=\"T_87c5a030_f7b7_11ea_957b_f40f2417f9ecrow0_col2\" class=\"data row0 col2\" >80.95%</td>\n                        <td id=\"T_87c5a030_f7b7_11ea_957b_f40f2417f9ecrow0_col3\" class=\"data row0 col3\" >80.91%</td>\n            </tr>\n            <tr>\n                        <th id=\"T_87c5a030_f7b7_11ea_957b_f40f2417f9eclevel0_row1\" class=\"row_heading level0 row1\" >Cabrera High School</th>\n                        <td id=\"T_87c5a030_f7b7_11ea_957b_f40f2417f9ecrow1_col0\" class=\"data row1 col0\" >83.68%</td>\n                        <td id=\"T_87c5a030_f7b7_11ea_957b_f40f2417f9ecrow1_col1\" class=\"data row1 col1\" >84.25%</td>\n                        <td id=\"T_87c5a030_f7b7_11ea_957b_f40f2417f9ecrow1_col2\" class=\"data row1 col2\" >83.79%</td>\n                        <td id=\"T_87c5a030_f7b7_11ea_957b_f40f2417f9ecrow1_col3\" class=\"data row1 col3\" >84.29%</td>\n            </tr>\n            <tr>\n                        <th id=\"T_87c5a030_f7b7_11ea_957b_f40f2417f9eclevel0_row2\" class=\"row_heading level0 row2\" >Figueroa High School</th>\n                        <td id=\"T_87c5a030_f7b7_11ea_957b_f40f2417f9ecrow2_col0\" class=\"data row2 col0\" >81.20%</td>\n                        <td id=\"T_87c5a030_f7b7_11ea_957b_f40f2417f9ecrow2_col1\" class=\"data row2 col1\" >81.41%</td>\n                        <td id=\"T_87c5a030_f7b7_11ea_957b_f40f2417f9ecrow2_col2\" class=\"data row2 col2\" >80.64%</td>\n                        <td id=\"T_87c5a030_f7b7_11ea_957b_f40f2417f9ecrow2_col3\" class=\"data row2 col3\" >81.38%</td>\n            </tr>\n            <tr>\n                        <th id=\"T_87c5a030_f7b7_11ea_957b_f40f2417f9eclevel0_row3\" class=\"row_heading level0 row3\" >Ford High School</th>\n                        <td id=\"T_87c5a030_f7b7_11ea_957b_f40f2417f9ecrow3_col0\" class=\"data row3 col0\" >80.63%</td>\n                        <td id=\"T_87c5a030_f7b7_11ea_957b_f40f2417f9ecrow3_col1\" class=\"data row3 col1\" >81.26%</td>\n                        <td id=\"T_87c5a030_f7b7_11ea_957b_f40f2417f9ecrow3_col2\" class=\"data row3 col2\" >80.40%</td>\n                        <td id=\"T_87c5a030_f7b7_11ea_957b_f40f2417f9ecrow3_col3\" class=\"data row3 col3\" >80.66%</td>\n            </tr>\n            <tr>\n                        <th id=\"T_87c5a030_f7b7_11ea_957b_f40f2417f9eclevel0_row4\" class=\"row_heading level0 row4\" >Griffin High School</th>\n                        <td id=\"T_87c5a030_f7b7_11ea_957b_f40f2417f9ecrow4_col0\" class=\"data row4 col0\" >83.37%</td>\n                        <td id=\"T_87c5a030_f7b7_11ea_957b_f40f2417f9ecrow4_col1\" class=\"data row4 col1\" >83.71%</td>\n                        <td id=\"T_87c5a030_f7b7_11ea_957b_f40f2417f9ecrow4_col2\" class=\"data row4 col2\" >84.29%</td>\n                        <td id=\"T_87c5a030_f7b7_11ea_957b_f40f2417f9ecrow4_col3\" class=\"data row4 col3\" >84.01%</td>\n            </tr>\n            <tr>\n                        <th id=\"T_87c5a030_f7b7_11ea_957b_f40f2417f9eclevel0_row5\" class=\"row_heading level0 row5\" >Hernandez High School</th>\n                        <td id=\"T_87c5a030_f7b7_11ea_957b_f40f2417f9ecrow5_col0\" class=\"data row5 col0\" >80.87%</td>\n                        <td id=\"T_87c5a030_f7b7_11ea_957b_f40f2417f9ecrow5_col1\" class=\"data row5 col1\" >80.66%</td>\n                        <td id=\"T_87c5a030_f7b7_11ea_957b_f40f2417f9ecrow5_col2\" class=\"data row5 col2\" >81.40%</td>\n                        <td id=\"T_87c5a030_f7b7_11ea_957b_f40f2417f9ecrow5_col3\" class=\"data row5 col3\" >80.86%</td>\n            </tr>\n            <tr>\n                        <th id=\"T_87c5a030_f7b7_11ea_957b_f40f2417f9eclevel0_row6\" class=\"row_heading level0 row6\" >Holden High School</th>\n                        <td id=\"T_87c5a030_f7b7_11ea_957b_f40f2417f9ecrow6_col0\" class=\"data row6 col0\" >83.68%</td>\n                        <td id=\"T_87c5a030_f7b7_11ea_957b_f40f2417f9ecrow6_col1\" class=\"data row6 col1\" >83.32%</td>\n                        <td id=\"T_87c5a030_f7b7_11ea_957b_f40f2417f9ecrow6_col2\" class=\"data row6 col2\" >83.82%</td>\n                        <td id=\"T_87c5a030_f7b7_11ea_957b_f40f2417f9ecrow6_col3\" class=\"data row6 col3\" >84.70%</td>\n            </tr>\n            <tr>\n                        <th id=\"T_87c5a030_f7b7_11ea_957b_f40f2417f9eclevel0_row7\" class=\"row_heading level0 row7\" >Huang High School</th>\n                        <td id=\"T_87c5a030_f7b7_11ea_957b_f40f2417f9ecrow7_col0\" class=\"data row7 col0\" >81.29%</td>\n                        <td id=\"T_87c5a030_f7b7_11ea_957b_f40f2417f9ecrow7_col1\" class=\"data row7 col1\" >81.51%</td>\n                        <td id=\"T_87c5a030_f7b7_11ea_957b_f40f2417f9ecrow7_col2\" class=\"data row7 col2\" >81.42%</td>\n                        <td id=\"T_87c5a030_f7b7_11ea_957b_f40f2417f9ecrow7_col3\" class=\"data row7 col3\" >80.31%</td>\n            </tr>\n            <tr>\n                        <th id=\"T_87c5a030_f7b7_11ea_957b_f40f2417f9eclevel0_row8\" class=\"row_heading level0 row8\" >Johnson High School</th>\n                        <td id=\"T_87c5a030_f7b7_11ea_957b_f40f2417f9ecrow8_col0\" class=\"data row8 col0\" >81.26%</td>\n                        <td id=\"T_87c5a030_f7b7_11ea_957b_f40f2417f9ecrow8_col1\" class=\"data row8 col1\" >80.77%</td>\n                        <td id=\"T_87c5a030_f7b7_11ea_957b_f40f2417f9ecrow8_col2\" class=\"data row8 col2\" >80.62%</td>\n                        <td id=\"T_87c5a030_f7b7_11ea_957b_f40f2417f9ecrow8_col3\" class=\"data row8 col3\" >81.23%</td>\n            </tr>\n            <tr>\n                        <th id=\"T_87c5a030_f7b7_11ea_957b_f40f2417f9eclevel0_row9\" class=\"row_heading level0 row9\" >Pena High School</th>\n                        <td id=\"T_87c5a030_f7b7_11ea_957b_f40f2417f9ecrow9_col0\" class=\"data row9 col0\" >83.81%</td>\n                        <td id=\"T_87c5a030_f7b7_11ea_957b_f40f2417f9ecrow9_col1\" class=\"data row9 col1\" >83.61%</td>\n                        <td id=\"T_87c5a030_f7b7_11ea_957b_f40f2417f9ecrow9_col2\" class=\"data row9 col2\" >84.34%</td>\n                        <td id=\"T_87c5a030_f7b7_11ea_957b_f40f2417f9ecrow9_col3\" class=\"data row9 col3\" >84.59%</td>\n            </tr>\n            <tr>\n                        <th id=\"T_87c5a030_f7b7_11ea_957b_f40f2417f9eclevel0_row10\" class=\"row_heading level0 row10\" >Rodriguez High School</th>\n                        <td id=\"T_87c5a030_f7b7_11ea_957b_f40f2417f9ecrow10_col0\" class=\"data row10 col0\" >80.99%</td>\n                        <td id=\"T_87c5a030_f7b7_11ea_957b_f40f2417f9ecrow10_col1\" class=\"data row10 col1\" >80.63%</td>\n                        <td id=\"T_87c5a030_f7b7_11ea_957b_f40f2417f9ecrow10_col2\" class=\"data row10 col2\" >80.86%</td>\n                        <td id=\"T_87c5a030_f7b7_11ea_957b_f40f2417f9ecrow10_col3\" class=\"data row10 col3\" >80.38%</td>\n            </tr>\n            <tr>\n                        <th id=\"T_87c5a030_f7b7_11ea_957b_f40f2417f9eclevel0_row11\" class=\"row_heading level0 row11\" >Shelton High School</th>\n                        <td id=\"T_87c5a030_f7b7_11ea_957b_f40f2417f9ecrow11_col0\" class=\"data row11 col0\" >84.12%</td>\n                        <td id=\"T_87c5a030_f7b7_11ea_957b_f40f2417f9ecrow11_col1\" class=\"data row11 col1\" >83.44%</td>\n                        <td id=\"T_87c5a030_f7b7_11ea_957b_f40f2417f9ecrow11_col2\" class=\"data row11 col2\" >84.37%</td>\n                        <td id=\"T_87c5a030_f7b7_11ea_957b_f40f2417f9ecrow11_col3\" class=\"data row11 col3\" >82.78%</td>\n            </tr>\n            <tr>\n                        <th id=\"T_87c5a030_f7b7_11ea_957b_f40f2417f9eclevel0_row12\" class=\"row_heading level0 row12\" >Thomas High School</th>\n                        <td id=\"T_87c5a030_f7b7_11ea_957b_f40f2417f9ecrow12_col0\" class=\"data row12 col0\" >83.73%</td>\n                        <td id=\"T_87c5a030_f7b7_11ea_957b_f40f2417f9ecrow12_col1\" class=\"data row12 col1\" >84.25%</td>\n                        <td id=\"T_87c5a030_f7b7_11ea_957b_f40f2417f9ecrow12_col2\" class=\"data row12 col2\" >83.59%</td>\n                        <td id=\"T_87c5a030_f7b7_11ea_957b_f40f2417f9ecrow12_col3\" class=\"data row12 col3\" >83.83%</td>\n            </tr>\n            <tr>\n                        <th id=\"T_87c5a030_f7b7_11ea_957b_f40f2417f9eclevel0_row13\" class=\"row_heading level0 row13\" >Wilson High School</th>\n                        <td id=\"T_87c5a030_f7b7_11ea_957b_f40f2417f9ecrow13_col0\" class=\"data row13 col0\" >83.94%</td>\n                        <td id=\"T_87c5a030_f7b7_11ea_957b_f40f2417f9ecrow13_col1\" class=\"data row13 col1\" >84.02%</td>\n                        <td id=\"T_87c5a030_f7b7_11ea_957b_f40f2417f9ecrow13_col2\" class=\"data row13 col2\" >83.76%</td>\n                        <td id=\"T_87c5a030_f7b7_11ea_957b_f40f2417f9ecrow13_col3\" class=\"data row13 col3\" >84.32%</td>\n            </tr>\n            <tr>\n                        <th id=\"T_87c5a030_f7b7_11ea_957b_f40f2417f9eclevel0_row14\" class=\"row_heading level0 row14\" >Wright High School</th>\n                        <td id=\"T_87c5a030_f7b7_11ea_957b_f40f2417f9ecrow14_col0\" class=\"data row14 col0\" >83.83%</td>\n                        <td id=\"T_87c5a030_f7b7_11ea_957b_f40f2417f9ecrow14_col1\" class=\"data row14 col1\" >83.81%</td>\n                        <td id=\"T_87c5a030_f7b7_11ea_957b_f40f2417f9ecrow14_col2\" class=\"data row14 col2\" >84.16%</td>\n                        <td id=\"T_87c5a030_f7b7_11ea_957b_f40f2417f9ecrow14_col3\" class=\"data row14 col3\" >84.07%</td>\n            </tr>\n    </tbody></table>"
     },
     "metadata": {},
     "execution_count": 7
    }
   ],
   "source": [
    "summary5_df = pd.DataFrame()\n",
    "#groupbygrade = \n",
    "summary5_df[\"9th\"] = school_data_complete[(school_data_complete[\"grade\"] == \"9th\")].groupby(\"school_name\")[\"reading_score\"].mean()\n",
    "summary5_df[\"10th\"] = school_data_complete[school_data_complete[\"grade\"] == \"10th\"].groupby(\"school_name\")[\"reading_score\"].mean()\n",
    "summary5_df[\"11th\"] = school_data_complete[school_data_complete[\"grade\"] == \"11th\"].groupby(\"school_name\")[\"reading_score\"].mean()\n",
    "summary5_df[\"12th\"] = school_data_complete[school_data_complete[\"grade\"] == \"12th\"].groupby(\"school_name\")[\"reading_score\"].mean()\n",
    "#formatting\n",
    "summary5_df = summary5_df.style.format({\"9th\" : \"{:.2f}%\",\n",
    "                                        \"10th\" : \"{:.2f}%\", \n",
    "                                        \"11th\" : \"{:.2f}%\",\n",
    "                                        \"12th\" : \"{:.2f}%\"})\n",
    "summary5_df"
   ]
  },
  {
   "cell_type": "markdown",
   "metadata": {},
   "source": [
    "## Scores by School Spending"
   ]
  },
  {
   "cell_type": "markdown",
   "metadata": {},
   "source": [
    "* Create a table that breaks down school performances based on average Spending Ranges (Per Student). Use 4 reasonable bins to group school spending. Include in the table each of the following:\n",
    "  * Average Math Score\n",
    "  * Average Reading Score\n",
    "  * % Passing Math\n",
    "  * % Passing Reading\n",
    "  * Overall Passing Rate (Average of the above two)"
   ]
  },
  {
   "cell_type": "code",
   "execution_count": 8,
   "metadata": {
    "tags": []
   },
   "outputs": [
    {
     "output_type": "execute_result",
     "data": {
      "text/plain": "<pandas.io.formats.style.Styler at 0x7fae4349cb00>",
      "text/html": "<style  type=\"text/css\" >\n</style><table id=\"T_88389646_f7b7_11ea_8315_f40f2417f9ec\" ><thead>    <tr>        <th class=\"blank level0\" ></th>        <th class=\"col_heading level0 col0\" >Average Math Score</th>        <th class=\"col_heading level0 col1\" >Average Reading Score</th>        <th class=\"col_heading level0 col2\" >% Passing Math</th>        <th class=\"col_heading level0 col3\" >% Passing Reading</th>        <th class=\"col_heading level0 col4\" >% Overall Passing</th>    </tr>    <tr>        <th class=\"index_name level0\" >Per Student Budget Range</th>        <th class=\"blank\" ></th>        <th class=\"blank\" ></th>        <th class=\"blank\" ></th>        <th class=\"blank\" ></th>        <th class=\"blank\" ></th>    </tr></thead><tbody>\n                <tr>\n                        <th id=\"T_88389646_f7b7_11ea_8315_f40f2417f9eclevel0_row0\" class=\"row_heading level0 row0\" ><$584</th>\n                        <td id=\"T_88389646_f7b7_11ea_8315_f40f2417f9ecrow0_col0\" class=\"data row0 col0\" >83.46%</td>\n                        <td id=\"T_88389646_f7b7_11ea_8315_f40f2417f9ecrow0_col1\" class=\"data row0 col1\" >83.93%</td>\n                        <td id=\"T_88389646_f7b7_11ea_8315_f40f2417f9ecrow0_col2\" class=\"data row0 col2\" >93.46%</td>\n                        <td id=\"T_88389646_f7b7_11ea_8315_f40f2417f9ecrow0_col3\" class=\"data row0 col3\" >96.61%</td>\n                        <td id=\"T_88389646_f7b7_11ea_8315_f40f2417f9ecrow0_col4\" class=\"data row0 col4\" >90.37%</td>\n            </tr>\n            <tr>\n                        <th id=\"T_88389646_f7b7_11ea_8315_f40f2417f9eclevel0_row1\" class=\"row_heading level0 row1\" >$585-629</th>\n                        <td id=\"T_88389646_f7b7_11ea_8315_f40f2417f9ecrow1_col0\" class=\"data row1 col0\" >81.90%</td>\n                        <td id=\"T_88389646_f7b7_11ea_8315_f40f2417f9ecrow1_col1\" class=\"data row1 col1\" >83.16%</td>\n                        <td id=\"T_88389646_f7b7_11ea_8315_f40f2417f9ecrow1_col2\" class=\"data row1 col2\" >87.13%</td>\n                        <td id=\"T_88389646_f7b7_11ea_8315_f40f2417f9ecrow1_col3\" class=\"data row1 col3\" >92.72%</td>\n                        <td id=\"T_88389646_f7b7_11ea_8315_f40f2417f9ecrow1_col4\" class=\"data row1 col4\" >81.42%</td>\n            </tr>\n            <tr>\n                        <th id=\"T_88389646_f7b7_11ea_8315_f40f2417f9eclevel0_row2\" class=\"row_heading level0 row2\" >$630-644</th>\n                        <td id=\"T_88389646_f7b7_11ea_8315_f40f2417f9ecrow2_col0\" class=\"data row2 col0\" >78.52%</td>\n                        <td id=\"T_88389646_f7b7_11ea_8315_f40f2417f9ecrow2_col1\" class=\"data row2 col1\" >81.62%</td>\n                        <td id=\"T_88389646_f7b7_11ea_8315_f40f2417f9ecrow2_col2\" class=\"data row2 col2\" >73.48%</td>\n                        <td id=\"T_88389646_f7b7_11ea_8315_f40f2417f9ecrow2_col3\" class=\"data row2 col3\" >84.39%</td>\n                        <td id=\"T_88389646_f7b7_11ea_8315_f40f2417f9ecrow2_col4\" class=\"data row2 col4\" >62.86%</td>\n            </tr>\n            <tr>\n                        <th id=\"T_88389646_f7b7_11ea_8315_f40f2417f9eclevel0_row3\" class=\"row_heading level0 row3\" >$645-675</th>\n                        <td id=\"T_88389646_f7b7_11ea_8315_f40f2417f9ecrow3_col0\" class=\"data row3 col0\" >77.00%</td>\n                        <td id=\"T_88389646_f7b7_11ea_8315_f40f2417f9ecrow3_col1\" class=\"data row3 col1\" >81.03%</td>\n                        <td id=\"T_88389646_f7b7_11ea_8315_f40f2417f9ecrow3_col2\" class=\"data row3 col2\" >66.16%</td>\n                        <td id=\"T_88389646_f7b7_11ea_8315_f40f2417f9ecrow3_col3\" class=\"data row3 col3\" >81.13%</td>\n                        <td id=\"T_88389646_f7b7_11ea_8315_f40f2417f9ecrow3_col4\" class=\"data row3 col4\" >53.53%</td>\n            </tr>\n    </tbody></table>"
     },
     "metadata": {},
     "execution_count": 8
    }
   ],
   "source": [
    "#reuse the school summary table\n",
    "spending_summary = summary_final_df\n",
    "bins = [0, 584, 630, 645, 676]\n",
    "labels = [\"<$584\", \"$585-629\", \"$630-644\", \"$645-675\"]\n",
    "spending_summary[\"Per Student Budget Range\"] = pd.cut(spending_summary[\"Per Student Budget\"],\n",
    "                       bins = bins, labels = labels, right=False)\n",
    "f = {\"Average Math Score\" : \"mean\",\"Average Reading Score\" : \"mean\",\n",
    "    \"% Passing Math\" : \"mean\",\"% Passing Reading\": \"mean\",\"% Overall Passing\" : \"mean\" }\n",
    "spending_summary = spending_summary.groupby([\"Per Student Budget Range\"]).agg(f)\n",
    "\n",
    "#formatting\n",
    "spending_summary = spending_summary.rename({\"math_score\": \"Average Math Score\",\n",
    "                                            \"reading_score\": \"Average Reading Score\"}, axis = 1)\n",
    "spending_summary = spending_summary.style.format({'Average Math Score' : \"{:.2f}%\", \n",
    "                                                  'Average Reading Score' : \"{:.2f}%\",\n",
    "                                                  '% Passing Math' : \"{:.2%}\", \n",
    "                                                  '% Passing Reading' : \"{:.2%}\",\n",
    "                                                  '% Overall Passing' : \"{:.2%}\"}) \n",
    "\n",
    "spending_summary"
   ]
  },
  {
   "cell_type": "markdown",
   "metadata": {},
   "source": [
    "## Scores by School Size"
   ]
  },
  {
   "cell_type": "markdown",
   "metadata": {},
   "source": [
    "* Perform the same operations as above, based on school size."
   ]
  },
  {
   "cell_type": "code",
   "execution_count": 9,
   "metadata": {
    "scrolled": true,
    "tags": []
   },
   "outputs": [
    {
     "output_type": "execute_result",
     "data": {
      "text/plain": "<pandas.io.formats.style.Styler at 0x7fae43449588>",
      "text/html": "<style  type=\"text/css\" >\n</style><table id=\"T_88c38b0a_f7b7_11ea_bd08_f40f2417f9ec\" ><thead>    <tr>        <th class=\"blank level0\" ></th>        <th class=\"col_heading level0 col0\" >Average Math Score</th>        <th class=\"col_heading level0 col1\" >Average Reading Score</th>        <th class=\"col_heading level0 col2\" >% Passing Math</th>        <th class=\"col_heading level0 col3\" >% Passing Reading</th>        <th class=\"col_heading level0 col4\" >% Overall Passing</th>    </tr>    <tr>        <th class=\"index_name level0\" >size_range</th>        <th class=\"blank\" ></th>        <th class=\"blank\" ></th>        <th class=\"blank\" ></th>        <th class=\"blank\" ></th>        <th class=\"blank\" ></th>    </tr></thead><tbody>\n                <tr>\n                        <th id=\"T_88c38b0a_f7b7_11ea_bd08_f40f2417f9eclevel0_row0\" class=\"row_heading level0 row0\" >Small (<1000)</th>\n                        <td id=\"T_88c38b0a_f7b7_11ea_bd08_f40f2417f9ecrow0_col0\" class=\"data row0 col0\" >83.82%</td>\n                        <td id=\"T_88c38b0a_f7b7_11ea_bd08_f40f2417f9ecrow0_col1\" class=\"data row0 col1\" >83.93%</td>\n                        <td id=\"T_88c38b0a_f7b7_11ea_bd08_f40f2417f9ecrow0_col2\" class=\"data row0 col2\" >93.55%</td>\n                        <td id=\"T_88c38b0a_f7b7_11ea_bd08_f40f2417f9ecrow0_col3\" class=\"data row0 col3\" >96.10%</td>\n                        <td id=\"T_88c38b0a_f7b7_11ea_bd08_f40f2417f9ecrow0_col4\" class=\"data row0 col4\" >89.88%</td>\n            </tr>\n            <tr>\n                        <th id=\"T_88c38b0a_f7b7_11ea_bd08_f40f2417f9eclevel0_row1\" class=\"row_heading level0 row1\" >Medium (1000-2000)</th>\n                        <td id=\"T_88c38b0a_f7b7_11ea_bd08_f40f2417f9ecrow1_col0\" class=\"data row1 col0\" >83.37%</td>\n                        <td id=\"T_88c38b0a_f7b7_11ea_bd08_f40f2417f9ecrow1_col1\" class=\"data row1 col1\" >83.86%</td>\n                        <td id=\"T_88c38b0a_f7b7_11ea_bd08_f40f2417f9ecrow1_col2\" class=\"data row1 col2\" >93.60%</td>\n                        <td id=\"T_88c38b0a_f7b7_11ea_bd08_f40f2417f9ecrow1_col3\" class=\"data row1 col3\" >96.79%</td>\n                        <td id=\"T_88c38b0a_f7b7_11ea_bd08_f40f2417f9ecrow1_col4\" class=\"data row1 col4\" >90.62%</td>\n            </tr>\n            <tr>\n                        <th id=\"T_88c38b0a_f7b7_11ea_bd08_f40f2417f9eclevel0_row2\" class=\"row_heading level0 row2\" >Large (2000-5000)</th>\n                        <td id=\"T_88c38b0a_f7b7_11ea_bd08_f40f2417f9ecrow2_col0\" class=\"data row2 col0\" >77.75%</td>\n                        <td id=\"T_88c38b0a_f7b7_11ea_bd08_f40f2417f9ecrow2_col1\" class=\"data row2 col1\" >81.34%</td>\n                        <td id=\"T_88c38b0a_f7b7_11ea_bd08_f40f2417f9ecrow2_col2\" class=\"data row2 col2\" >69.96%</td>\n                        <td id=\"T_88c38b0a_f7b7_11ea_bd08_f40f2417f9ecrow2_col3\" class=\"data row2 col3\" >82.77%</td>\n                        <td id=\"T_88c38b0a_f7b7_11ea_bd08_f40f2417f9ecrow2_col4\" class=\"data row2 col4\" >58.29%</td>\n            </tr>\n    </tbody></table>"
     },
     "metadata": {},
     "execution_count": 9
    }
   ],
   "source": [
    "#reuse the school summary table\n",
    "summary_final_df[\"size\"] = list(school_data_complete.groupby(\"school_name\")[\"size\"].unique())\n",
    "size_summary = summary_final_df\n",
    "bins = [0, 999, 2000, 5000]\n",
    "labels = [\"Small (<1000)\", \"Medium (1000-2000)\", \"Large (2000-5000)\"]\n",
    "size_summary[\"size_range\"] = pd.cut(size_summary[\"size\"],\n",
    "                       bins = bins, labels = labels, right=True)\n",
    "#f is defined already to claculate the columns\n",
    "size_summary = size_summary.groupby([\"size_range\"]).agg(f)\n",
    "#formatting\n",
    "size_summary = size_summary.rename({\"math_score\": \"Average Math Score\",\n",
    "                                    \"reading_score\": \"Average Reading Score\"}, axis = 1)\n",
    "size_summary = size_summary.style.format({'Average Math Score' : \"{:.2f}%\", \n",
    "                                          'Average Reading Score' : \"{:.2f}%\",\n",
    "                                          '% Passing Math' : \"{:.2%}\", \n",
    "                                          '% Passing Reading' : \"{:.2%}\",\n",
    "                                          '% Overall Passing' : \"{:.2%}\"})\n",
    "\n",
    "size_summary"
   ]
  },
  {
   "cell_type": "markdown",
   "metadata": {},
   "source": [
    "## Scores by School Type"
   ]
  },
  {
   "cell_type": "markdown",
   "metadata": {},
   "source": [
    "* Perform the same operations as above, based on school type"
   ]
  },
  {
   "cell_type": "code",
   "execution_count": 10,
   "metadata": {},
   "outputs": [
    {
     "output_type": "execute_result",
     "data": {
      "text/plain": "<pandas.io.formats.style.Styler at 0x7fae43479400>",
      "text/html": "<style  type=\"text/css\" >\n</style><table id=\"T_895dd5fa_f7b7_11ea_af34_f40f2417f9ec\" ><thead>    <tr>        <th class=\"blank level0\" ></th>        <th class=\"col_heading level0 col0\" >Average Math Score</th>        <th class=\"col_heading level0 col1\" >Average Reading Score</th>        <th class=\"col_heading level0 col2\" >% Passing Math</th>        <th class=\"col_heading level0 col3\" >% Passing Reading</th>        <th class=\"col_heading level0 col4\" >% Overall Passing</th>    </tr>    <tr>        <th class=\"index_name level0\" >School Type</th>        <th class=\"blank\" ></th>        <th class=\"blank\" ></th>        <th class=\"blank\" ></th>        <th class=\"blank\" ></th>        <th class=\"blank\" ></th>    </tr></thead><tbody>\n                <tr>\n                        <th id=\"T_895dd5fa_f7b7_11ea_af34_f40f2417f9eclevel0_row0\" class=\"row_heading level0 row0\" >Charter</th>\n                        <td id=\"T_895dd5fa_f7b7_11ea_af34_f40f2417f9ecrow0_col0\" class=\"data row0 col0\" >83.47%</td>\n                        <td id=\"T_895dd5fa_f7b7_11ea_af34_f40f2417f9ecrow0_col1\" class=\"data row0 col1\" >83.90%</td>\n                        <td id=\"T_895dd5fa_f7b7_11ea_af34_f40f2417f9ecrow0_col2\" class=\"data row0 col2\" >93.62%</td>\n                        <td id=\"T_895dd5fa_f7b7_11ea_af34_f40f2417f9ecrow0_col3\" class=\"data row0 col3\" >96.59%</td>\n                        <td id=\"T_895dd5fa_f7b7_11ea_af34_f40f2417f9ecrow0_col4\" class=\"data row0 col4\" >90.43%</td>\n            </tr>\n            <tr>\n                        <th id=\"T_895dd5fa_f7b7_11ea_af34_f40f2417f9eclevel0_row1\" class=\"row_heading level0 row1\" >District</th>\n                        <td id=\"T_895dd5fa_f7b7_11ea_af34_f40f2417f9ecrow1_col0\" class=\"data row1 col0\" >76.96%</td>\n                        <td id=\"T_895dd5fa_f7b7_11ea_af34_f40f2417f9ecrow1_col1\" class=\"data row1 col1\" >80.97%</td>\n                        <td id=\"T_895dd5fa_f7b7_11ea_af34_f40f2417f9ecrow1_col2\" class=\"data row1 col2\" >66.55%</td>\n                        <td id=\"T_895dd5fa_f7b7_11ea_af34_f40f2417f9ecrow1_col3\" class=\"data row1 col3\" >80.80%</td>\n                        <td id=\"T_895dd5fa_f7b7_11ea_af34_f40f2417f9ecrow1_col4\" class=\"data row1 col4\" >53.67%</td>\n            </tr>\n    </tbody></table>"
     },
     "metadata": {},
     "execution_count": 10
    }
   ],
   "source": [
    "#f is defined already to claculate the columns\n",
    "type_summary = summary_final_df.groupby(\"School Type\").agg(f)\n",
    "#formatting\n",
    "type_summary = type_summary.style.format({'Average Math Score' : \"{:.2f}%\",\n",
    "                                          'Average Reading Score' : \"{:.2f}%\",\n",
    "                                          '% Passing Math' : \"{:.2%}\", \n",
    "                                          '% Passing Reading' : \"{:.2%}\",\n",
    "                                          '% Overall Passing' : \"{:.2%}\"})\n",
    "\n",
    "type_summary"
   ]
  }
 ],
 "metadata": {
  "anaconda-cloud": {},
  "kernel_info": {
   "name": "python3"
  },
  "kernelspec": {
   "display_name": "Python 3.6.10 64-bit ('PythonDataNew': conda)",
   "language": "python",
   "name": "python361064bitpythondatanewcondae7a48796120c4badafdc12c7c6175686"
  },
  "language_info": {
   "codemirror_mode": {
    "name": "ipython",
    "version": 3
   },
   "file_extension": ".py",
   "mimetype": "text/x-python",
   "name": "python",
   "nbconvert_exporter": "python",
   "pygments_lexer": "ipython3",
   "version": "3.6.10-final"
  },
  "latex_envs": {
   "LaTeX_envs_menu_present": true,
   "autoclose": false,
   "autocomplete": true,
   "bibliofile": "biblio.bib",
   "cite_by": "apalike",
   "current_citInitial": 1,
   "eqLabelWithNumbers": true,
   "eqNumInitial": 1,
   "hotkeys": {
    "equation": "Ctrl-E",
    "itemize": "Ctrl-I"
   },
   "labels_anchors": false,
   "latex_user_defs": false,
   "report_style_numbering": false,
   "user_envs_cfg": false
  },
  "nteract": {
   "version": "0.8.4"
  }
 },
 "nbformat": 4,
 "nbformat_minor": 1
}