{
 "cells": [
  {
   "cell_type": "markdown",
   "metadata": {},
   "source": [
    "### [Observations :]\n",
    "\n",
    "* We can observe that the majority of the players are male (84%).Most of the players are aged between 15 and 30 years old. Males are also more likely to buy items in game with (~2000$) on a the total of (2379$). However women are not negligeable as 14% of the players are females.\n",
    "\n",
    "* We can go deeper in the analysis and we observe that the most present group age is between 20 and 24 years old (44% of tha players). This age group spends also the most money on buying items in game (~1115$) with an average purchae of $4.32 . \n",
    "\n",
    "* Based on the most populars and the most profitable items, and based on the top spenders, we can observe that the average spends are between $3.40 and $4.90 . This corelate with the average purchase of the most present age group."
   ]
  },
  {
   "cell_type": "markdown",
   "metadata": {},
   "source": [
    "### Note\n",
    "* Instructions have been included for each segment. You do not have to follow them exactly, but they are included to help you think through the steps."
   ]
  },
  {
   "cell_type": "code",
   "execution_count": 29,
   "metadata": {},
   "outputs": [
    {
     "output_type": "execute_result",
     "data": {
      "text/plain": "   Purchase ID             SN  Age Gender  Item ID  \\\n0            0        Lisim78   20   Male      108   \n1            1    Lisovynya38   40   Male      143   \n2            2     Ithergue48   24   Male       92   \n3            3  Chamassasya86   24   Male      100   \n4            4      Iskosia90   23   Male      131   \n\n                                   Item Name  Price  \n0  Extraction, Quickblade Of Trembling Hands   3.53  \n1                          Frenzied Scimitar   1.56  \n2                               Final Critic   4.88  \n3                                Blindscythe   3.27  \n4                                       Fury   1.44  ",
      "text/html": "<div>\n<style scoped>\n    .dataframe tbody tr th:only-of-type {\n        vertical-align: middle;\n    }\n\n    .dataframe tbody tr th {\n        vertical-align: top;\n    }\n\n    .dataframe thead th {\n        text-align: right;\n    }\n</style>\n<table border=\"1\" class=\"dataframe\">\n  <thead>\n    <tr style=\"text-align: right;\">\n      <th></th>\n      <th>Purchase ID</th>\n      <th>SN</th>\n      <th>Age</th>\n      <th>Gender</th>\n      <th>Item ID</th>\n      <th>Item Name</th>\n      <th>Price</th>\n    </tr>\n  </thead>\n  <tbody>\n    <tr>\n      <th>0</th>\n      <td>0</td>\n      <td>Lisim78</td>\n      <td>20</td>\n      <td>Male</td>\n      <td>108</td>\n      <td>Extraction, Quickblade Of Trembling Hands</td>\n      <td>3.53</td>\n    </tr>\n    <tr>\n      <th>1</th>\n      <td>1</td>\n      <td>Lisovynya38</td>\n      <td>40</td>\n      <td>Male</td>\n      <td>143</td>\n      <td>Frenzied Scimitar</td>\n      <td>1.56</td>\n    </tr>\n    <tr>\n      <th>2</th>\n      <td>2</td>\n      <td>Ithergue48</td>\n      <td>24</td>\n      <td>Male</td>\n      <td>92</td>\n      <td>Final Critic</td>\n      <td>4.88</td>\n    </tr>\n    <tr>\n      <th>3</th>\n      <td>3</td>\n      <td>Chamassasya86</td>\n      <td>24</td>\n      <td>Male</td>\n      <td>100</td>\n      <td>Blindscythe</td>\n      <td>3.27</td>\n    </tr>\n    <tr>\n      <th>4</th>\n      <td>4</td>\n      <td>Iskosia90</td>\n      <td>23</td>\n      <td>Male</td>\n      <td>131</td>\n      <td>Fury</td>\n      <td>1.44</td>\n    </tr>\n  </tbody>\n</table>\n</div>"
     },
     "metadata": {},
     "execution_count": 29
    }
   ],
   "source": [
    "# Dependencies and Setup\n",
    "import pandas as pd\n",
    "\n",
    "# File to Load (Remember to Change These)\n",
    "file_to_load = \"Resources/purchase_data.csv\"\n",
    "\n",
    "# Read Purchasing File and store into Pandas data frame\n",
    "purchase_data = pd.read_csv(file_to_load)\n",
    "purchase_data.head()"
   ]
  },
  {
   "cell_type": "markdown",
   "metadata": {},
   "source": [
    "## Player Count"
   ]
  },
  {
   "cell_type": "markdown",
   "metadata": {},
   "source": [
    "* Display the total number of players\n"
   ]
  },
  {
   "cell_type": "code",
   "execution_count": 30,
   "metadata": {},
   "outputs": [
    {
     "output_type": "execute_result",
     "data": {
      "text/plain": "   Total players\n0            576",
      "text/html": "<div>\n<style scoped>\n    .dataframe tbody tr th:only-of-type {\n        vertical-align: middle;\n    }\n\n    .dataframe tbody tr th {\n        vertical-align: top;\n    }\n\n    .dataframe thead th {\n        text-align: right;\n    }\n</style>\n<table border=\"1\" class=\"dataframe\">\n  <thead>\n    <tr style=\"text-align: right;\">\n      <th></th>\n      <th>Total players</th>\n    </tr>\n  </thead>\n  <tbody>\n    <tr>\n      <th>0</th>\n      <td>576</td>\n    </tr>\n  </tbody>\n</table>\n</div>"
     },
     "metadata": {},
     "execution_count": 30
    }
   ],
   "source": [
    "total_players = len(purchase_data[\"SN\"].unique())\n",
    "total_player = pd.DataFrame({\"Total players\" : [total_players]})\n",
    "total_player"
   ]
  },
  {
   "cell_type": "markdown",
   "metadata": {},
   "source": [
    "## Purchasing Analysis (Total)"
   ]
  },
  {
   "cell_type": "markdown",
   "metadata": {},
   "source": [
    "* Run basic calculations to obtain number of unique items, average price, etc.\n",
    "\n",
    "\n",
    "* Create a summary data frame to hold the results\n",
    "\n",
    "\n",
    "* Optional: give the displayed data cleaner formatting\n",
    "\n",
    "\n",
    "* Display the summary data frame\n"
   ]
  },
  {
   "cell_type": "code",
   "execution_count": 31,
   "metadata": {
    "scrolled": true
   },
   "outputs": [
    {
     "output_type": "execute_result",
     "data": {
      "text/plain": "   Number of Unique Items Average Price  Number of Purchases Total Revenue\n0                     179         $3.05                  780     $2,379.77",
      "text/html": "<div>\n<style scoped>\n    .dataframe tbody tr th:only-of-type {\n        vertical-align: middle;\n    }\n\n    .dataframe tbody tr th {\n        vertical-align: top;\n    }\n\n    .dataframe thead th {\n        text-align: right;\n    }\n</style>\n<table border=\"1\" class=\"dataframe\">\n  <thead>\n    <tr style=\"text-align: right;\">\n      <th></th>\n      <th>Number of Unique Items</th>\n      <th>Average Price</th>\n      <th>Number of Purchases</th>\n      <th>Total Revenue</th>\n    </tr>\n  </thead>\n  <tbody>\n    <tr>\n      <th>0</th>\n      <td>179</td>\n      <td>$3.05</td>\n      <td>780</td>\n      <td>$2,379.77</td>\n    </tr>\n  </tbody>\n</table>\n</div>"
     },
     "metadata": {},
     "execution_count": 31
    }
   ],
   "source": [
    "#Calculations\n",
    "unique_items = len(purchase_data[\"Item Name\"].unique())\n",
    "avg_price = purchase_data[\"Price\"].mean()\n",
    "number_purchases = purchase_data[\"Item Name\"].count()\n",
    "revenue = purchase_data[\"Price\"].sum()\n",
    "#create the data frame\n",
    "purchasing_analysis = pd.DataFrame({\"Number of Unique Items\": [unique_items], \n",
    "                                    \"Average Price\" : avg_price,\n",
    "                                    \"Number of Purchases\": number_purchases,\n",
    "                                    \"Total Revenue\" : revenue})\n",
    "#Format the data frame                                    \n",
    "purchasing_analysis[\"Average Price\"] = purchasing_analysis[\"Average Price\"].map(\"${:.2f}\".format)\n",
    "purchasing_analysis[\"Total Revenue\"] = purchasing_analysis[\"Total Revenue\"].map(\"${:,.2f}\".format)#Print the data frame    \n",
    "purchasing_analysis"
   ]
  },
  {
   "cell_type": "markdown",
   "metadata": {},
   "source": [
    "## Gender Demographics"
   ]
  },
  {
   "cell_type": "markdown",
   "metadata": {},
   "source": [
    "* Percentage and Count of Male Players\n",
    "\n",
    "\n",
    "* Percentage and Count of Female Players\n",
    "\n",
    "\n",
    "* Percentage and Count of Other / Non-Disclosed\n",
    "\n",
    "\n"
   ]
  },
  {
   "cell_type": "code",
   "execution_count": 32,
   "metadata": {},
   "outputs": [
    {
     "output_type": "execute_result",
     "data": {
      "text/plain": "<pandas.io.formats.style.Styler at 0x7f8f4e400080>",
      "text/html": "<style  type=\"text/css\" >\n</style><table id=\"T_09fb784c_f7b1_11ea_8dec_f40f2417f9ec\" ><thead>    <tr>        <th class=\"blank level0\" ></th>        <th class=\"col_heading level0 col0\" >Gender</th>        <th class=\"col_heading level0 col1\" >Total Count</th>        <th class=\"col_heading level0 col2\" >Percent of Players</th>    </tr></thead><tbody>\n                <tr>\n                        <th id=\"T_09fb784c_f7b1_11ea_8dec_f40f2417f9eclevel0_row0\" class=\"row_heading level0 row0\" >0</th>\n                        <td id=\"T_09fb784c_f7b1_11ea_8dec_f40f2417f9ecrow0_col0\" class=\"data row0 col0\" >Male</td>\n                        <td id=\"T_09fb784c_f7b1_11ea_8dec_f40f2417f9ecrow0_col1\" class=\"data row0 col1\" >484</td>\n                        <td id=\"T_09fb784c_f7b1_11ea_8dec_f40f2417f9ecrow0_col2\" class=\"data row0 col2\" >84.03%</td>\n            </tr>\n            <tr>\n                        <th id=\"T_09fb784c_f7b1_11ea_8dec_f40f2417f9eclevel0_row1\" class=\"row_heading level0 row1\" >1</th>\n                        <td id=\"T_09fb784c_f7b1_11ea_8dec_f40f2417f9ecrow1_col0\" class=\"data row1 col0\" >Female</td>\n                        <td id=\"T_09fb784c_f7b1_11ea_8dec_f40f2417f9ecrow1_col1\" class=\"data row1 col1\" >81</td>\n                        <td id=\"T_09fb784c_f7b1_11ea_8dec_f40f2417f9ecrow1_col2\" class=\"data row1 col2\" >14.06%</td>\n            </tr>\n            <tr>\n                        <th id=\"T_09fb784c_f7b1_11ea_8dec_f40f2417f9eclevel0_row2\" class=\"row_heading level0 row2\" >2</th>\n                        <td id=\"T_09fb784c_f7b1_11ea_8dec_f40f2417f9ecrow2_col0\" class=\"data row2 col0\" >Other / Non-Disclosed</td>\n                        <td id=\"T_09fb784c_f7b1_11ea_8dec_f40f2417f9ecrow2_col1\" class=\"data row2 col1\" >11</td>\n                        <td id=\"T_09fb784c_f7b1_11ea_8dec_f40f2417f9ecrow2_col2\" class=\"data row2 col2\" >1.91%</td>\n            </tr>\n    </tbody></table>"
     },
     "metadata": {},
     "execution_count": 32
    }
   ],
   "source": [
    "#unique with grouping\n",
    "#grouped_df = purchase_data[\"Gender\"].agg({\"SN\": \"nunique\"})\n",
    "#Calculations without grouping\n",
    "total_male = purchase_data[purchase_data[\"Gender\"] == \"Male\"].value_counts(\"SN\").count()\n",
    "total_female = purchase_data[purchase_data[\"Gender\"] == \"Female\"].value_counts(\"SN\").count()\n",
    "total_others = purchase_data[purchase_data[\"Gender\"] == \"Other / Non-Disclosed\"].value_counts(\"SN\").count()\n",
    "percent_male = total_male/total_players\n",
    "percent_female = total_female/total_players\n",
    "percent_others = total_others/total_players\n",
    "#Create data Frame\n",
    "gender_df = pd.DataFrame({\"Gender\" : [\"Male\",\"Female\",\"Other / Non-Disclosed\"],\n",
    "                          \"Total Count\" : [total_male , total_female ,total_others], \n",
    "                          \"Percent of Players\" : [percent_male , percent_female ,percent_others]})\n",
    "#Formating data frame (another way)\n",
    "gender_df = gender_df.style.format({\"Percent of Players\" : \"{:.2%}\"})\n",
    "#print the result data frame\n",
    "gender_df"
   ]
  },
  {
   "cell_type": "markdown",
   "metadata": {},
   "source": [
    "\n",
    "## Purchasing Analysis (Gender)"
   ]
  },
  {
   "cell_type": "markdown",
   "metadata": {},
   "source": [
    "* Run basic calculations to obtain purchase count, avg. purchase price, avg. purchase total per person etc. by gender\n",
    "\n",
    "\n",
    "\n",
    "\n",
    "* Create a summary data frame to hold the results\n",
    "\n",
    "\n",
    "* Optional: give the displayed data cleaner formatting\n",
    "\n",
    "\n",
    "* Display the summary data frame"
   ]
  },
  {
   "cell_type": "code",
   "execution_count": 33,
   "metadata": {},
   "outputs": [
    {
     "output_type": "execute_result",
     "data": {
      "text/plain": "<pandas.io.formats.style.Styler at 0x7f8f4e633ba8>",
      "text/html": "<style  type=\"text/css\" >\n</style><table id=\"T_0ae1ef34_f7b1_11ea_8dc4_f40f2417f9ec\" ><thead>    <tr>        <th class=\"blank level0\" ></th>        <th class=\"col_heading level0 col0\" >Gender</th>        <th class=\"col_heading level0 col1\" >Purchase Count</th>        <th class=\"col_heading level0 col2\" >Average Purchase Price</th>        <th class=\"col_heading level0 col3\" >Total Purchase Value</th>        <th class=\"col_heading level0 col4\" >Avg Total Purchase per Person</th>    </tr></thead><tbody>\n                <tr>\n                        <th id=\"T_0ae1ef34_f7b1_11ea_8dc4_f40f2417f9eclevel0_row0\" class=\"row_heading level0 row0\" >0</th>\n                        <td id=\"T_0ae1ef34_f7b1_11ea_8dc4_f40f2417f9ecrow0_col0\" class=\"data row0 col0\" >Male</td>\n                        <td id=\"T_0ae1ef34_f7b1_11ea_8dc4_f40f2417f9ecrow0_col1\" class=\"data row0 col1\" >652</td>\n                        <td id=\"T_0ae1ef34_f7b1_11ea_8dc4_f40f2417f9ecrow0_col2\" class=\"data row0 col2\" >$3.02</td>\n                        <td id=\"T_0ae1ef34_f7b1_11ea_8dc4_f40f2417f9ecrow0_col3\" class=\"data row0 col3\" >$1,967.64</td>\n                        <td id=\"T_0ae1ef34_f7b1_11ea_8dc4_f40f2417f9ecrow0_col4\" class=\"data row0 col4\" >$4.07</td>\n            </tr>\n            <tr>\n                        <th id=\"T_0ae1ef34_f7b1_11ea_8dc4_f40f2417f9eclevel0_row1\" class=\"row_heading level0 row1\" >1</th>\n                        <td id=\"T_0ae1ef34_f7b1_11ea_8dc4_f40f2417f9ecrow1_col0\" class=\"data row1 col0\" >Female</td>\n                        <td id=\"T_0ae1ef34_f7b1_11ea_8dc4_f40f2417f9ecrow1_col1\" class=\"data row1 col1\" >113</td>\n                        <td id=\"T_0ae1ef34_f7b1_11ea_8dc4_f40f2417f9ecrow1_col2\" class=\"data row1 col2\" >$3.20</td>\n                        <td id=\"T_0ae1ef34_f7b1_11ea_8dc4_f40f2417f9ecrow1_col3\" class=\"data row1 col3\" >$361.94</td>\n                        <td id=\"T_0ae1ef34_f7b1_11ea_8dc4_f40f2417f9ecrow1_col4\" class=\"data row1 col4\" >$4.47</td>\n            </tr>\n            <tr>\n                        <th id=\"T_0ae1ef34_f7b1_11ea_8dc4_f40f2417f9eclevel0_row2\" class=\"row_heading level0 row2\" >2</th>\n                        <td id=\"T_0ae1ef34_f7b1_11ea_8dc4_f40f2417f9ecrow2_col0\" class=\"data row2 col0\" >Other / Non-Disclosed</td>\n                        <td id=\"T_0ae1ef34_f7b1_11ea_8dc4_f40f2417f9ecrow2_col1\" class=\"data row2 col1\" >15</td>\n                        <td id=\"T_0ae1ef34_f7b1_11ea_8dc4_f40f2417f9ecrow2_col2\" class=\"data row2 col2\" >$3.35</td>\n                        <td id=\"T_0ae1ef34_f7b1_11ea_8dc4_f40f2417f9ecrow2_col3\" class=\"data row2 col3\" >$50.19</td>\n                        <td id=\"T_0ae1ef34_f7b1_11ea_8dc4_f40f2417f9ecrow2_col4\" class=\"data row2 col4\" >$4.56</td>\n            </tr>\n    </tbody></table>"
     },
     "metadata": {},
     "execution_count": 33
    }
   ],
   "source": [
    "#Group by gender\n",
    "f = {\"Purchase ID\": [\"count\"], \"Price\": [\"mean\", \"sum\"]}\n",
    "grouped_df = purchase_data.groupby([\"Gender\"]).agg(f)\n",
    "grouped_df.columns = grouped_df.columns.map(\"_\".join)\n",
    "#group the unique count per gender in a list\n",
    "unique_gender = [total_female, total_male, total_others]\n",
    "grouped_df[\"Avg Total Purchase per Person\"] = grouped_df[\"Price_sum\"]/unique_gender\n",
    "#fornating the dataframe\n",
    "grouped_df = grouped_df.sort_values(\"Price_sum\", ascending = False).reset_index()\n",
    "grouped_df = grouped_df.rename(columns = {\"Purchase ID_count\" : \"Purchase Count\", \n",
    "                                          \"Price_mean\" : \"Average Purchase Price\", \n",
    "                                          \"Price_sum\" : \"Total Purchase Value\"})\n",
    "grouped_df = grouped_df.style.format({\"Average Purchase Price\" : \"${:.2f}\",\n",
    "                                      \"Total Purchase Value\" : \"${:,.2f}\",\n",
    "                                      \"Avg Total Purchase per Person\" : \"${:.2f}\"})\n",
    "#print the result data frame\n",
    "grouped_df"
   ]
  },
  {
   "cell_type": "markdown",
   "metadata": {},
   "source": [
    "## Age Demographics"
   ]
  },
  {
   "cell_type": "markdown",
   "metadata": {},
   "source": [
    "* Establish bins for ages\n",
    "\n",
    "\n",
    "* Categorize the existing players using the age bins. Hint: use pd.cut()\n",
    "\n",
    "\n",
    "* Calculate the numbers and percentages by age group\n",
    "\n",
    "\n",
    "* Create a summary data frame to hold the results\n",
    "\n",
    "\n",
    "* Optional: round the percentage column to two decimal points\n",
    "\n",
    "\n",
    "* Display Age Demographics Table\n"
   ]
  },
  {
   "cell_type": "code",
   "execution_count": 34,
   "metadata": {},
   "outputs": [
    {
     "output_type": "execute_result",
     "data": {
      "text/plain": "  Age Range  Total Count Percentage of Players\n0       <10           17                 2.95%\n1     10-14           22                 3.82%\n2     15-19          107                18.58%\n3     20-24          258                44.79%\n4     25-29           77                13.37%\n5     30-34           52                 9.03%\n6     35-39           31                 5.38%\n7       40+           12                 2.08%",
      "text/html": "<div>\n<style scoped>\n    .dataframe tbody tr th:only-of-type {\n        vertical-align: middle;\n    }\n\n    .dataframe tbody tr th {\n        vertical-align: top;\n    }\n\n    .dataframe thead th {\n        text-align: right;\n    }\n</style>\n<table border=\"1\" class=\"dataframe\">\n  <thead>\n    <tr style=\"text-align: right;\">\n      <th></th>\n      <th>Age Range</th>\n      <th>Total Count</th>\n      <th>Percentage of Players</th>\n    </tr>\n  </thead>\n  <tbody>\n    <tr>\n      <th>0</th>\n      <td>&lt;10</td>\n      <td>17</td>\n      <td>2.95%</td>\n    </tr>\n    <tr>\n      <th>1</th>\n      <td>10-14</td>\n      <td>22</td>\n      <td>3.82%</td>\n    </tr>\n    <tr>\n      <th>2</th>\n      <td>15-19</td>\n      <td>107</td>\n      <td>18.58%</td>\n    </tr>\n    <tr>\n      <th>3</th>\n      <td>20-24</td>\n      <td>258</td>\n      <td>44.79%</td>\n    </tr>\n    <tr>\n      <th>4</th>\n      <td>25-29</td>\n      <td>77</td>\n      <td>13.37%</td>\n    </tr>\n    <tr>\n      <th>5</th>\n      <td>30-34</td>\n      <td>52</td>\n      <td>9.03%</td>\n    </tr>\n    <tr>\n      <th>6</th>\n      <td>35-39</td>\n      <td>31</td>\n      <td>5.38%</td>\n    </tr>\n    <tr>\n      <th>7</th>\n      <td>40+</td>\n      <td>12</td>\n      <td>2.08%</td>\n    </tr>\n  </tbody>\n</table>\n</div>"
     },
     "metadata": {},
     "execution_count": 34
    }
   ],
   "source": [
    "#see the min and max Age to be sure to include everybody in the bins\n",
    "purchase_data.describe()\n",
    "#Bins\n",
    "bins = [0,10,15,20,25,30,35,40,50]\n",
    "labels = [\"<10\", \"10-14\", \"15-19\", \"20-24\", \"25-29\", \"30-34\", \"35-39\", \"40+\"]\n",
    "#add a age range column to the existing data frame\n",
    "purchase_data[\"Age Range\"] = pd.cut(purchase_data[\"Age\"], \n",
    "                              bins = bins, labels = labels, right = False)\n",
    "#create a new data frame grouped bin age range\n",
    "age_range_df = purchase_data.groupby([\"Age Range\"])\n",
    "total_count_range = age_range_df[\"SN\"].value_counts().count(\"Age Range\")\n",
    "summary_df = pd.DataFrame(total_count_range)\n",
    "summary_df[\"Percentage of Players\"] = summary_df[\"SN\"]/total_players\n",
    "#Formating the  \n",
    "summary_df = summary_df.rename(columns = {\"SN\":\"Total Count\"})\n",
    "summary_df[\"Percentage of Players\"] = summary_df[\"Percentage of Players\"].map(\"{:.2%}\".format)\n",
    "summary_df = summary_df.reset_index()\n",
    "#print the result data frame\n",
    "summary_df "
   ]
  },
  {
   "cell_type": "markdown",
   "metadata": {},
   "source": [
    "## Purchasing Analysis (Age)"
   ]
  },
  {
   "cell_type": "markdown",
   "metadata": {},
   "source": [
    "* Bin the purchase_data data frame by age\n",
    "\n",
    "\n",
    "* Run basic calculations to obtain purchase count, avg. purchase price, avg. purchase total per person etc. in the table below\n",
    "\n",
    "\n",
    "* Create a summary data frame to hold the results\n",
    "\n",
    "\n",
    "* Optional: give the displayed data cleaner formatting\n",
    "\n",
    "\n",
    "* Display the summary data frame"
   ]
  },
  {
   "cell_type": "code",
   "execution_count": 35,
   "metadata": {},
   "outputs": [
    {
     "output_type": "execute_result",
     "data": {
      "text/plain": "<pandas.io.formats.style.Styler at 0x7f8f4fd02c18>",
      "text/html": "<style  type=\"text/css\" >\n</style><table id=\"T_0c6bfa3e_f7b1_11ea_bd66_f40f2417f9ec\" ><thead>    <tr>        <th class=\"blank level0\" ></th>        <th class=\"col_heading level0 col0\" >Age Range</th>        <th class=\"col_heading level0 col1\" >Purchase Count</th>        <th class=\"col_heading level0 col2\" >Average Purchase Price</th>        <th class=\"col_heading level0 col3\" >Total Purchase Value</th>        <th class=\"col_heading level0 col4\" >Avg Total Purchase per Person</th>    </tr></thead><tbody>\n                <tr>\n                        <th id=\"T_0c6bfa3e_f7b1_11ea_bd66_f40f2417f9eclevel0_row0\" class=\"row_heading level0 row0\" >0</th>\n                        <td id=\"T_0c6bfa3e_f7b1_11ea_bd66_f40f2417f9ecrow0_col0\" class=\"data row0 col0\" ><10</td>\n                        <td id=\"T_0c6bfa3e_f7b1_11ea_bd66_f40f2417f9ecrow0_col1\" class=\"data row0 col1\" >23</td>\n                        <td id=\"T_0c6bfa3e_f7b1_11ea_bd66_f40f2417f9ecrow0_col2\" class=\"data row0 col2\" >$3.35</td>\n                        <td id=\"T_0c6bfa3e_f7b1_11ea_bd66_f40f2417f9ecrow0_col3\" class=\"data row0 col3\" >$77.13</td>\n                        <td id=\"T_0c6bfa3e_f7b1_11ea_bd66_f40f2417f9ecrow0_col4\" class=\"data row0 col4\" >$4.54</td>\n            </tr>\n            <tr>\n                        <th id=\"T_0c6bfa3e_f7b1_11ea_bd66_f40f2417f9eclevel0_row1\" class=\"row_heading level0 row1\" >1</th>\n                        <td id=\"T_0c6bfa3e_f7b1_11ea_bd66_f40f2417f9ecrow1_col0\" class=\"data row1 col0\" >10-14</td>\n                        <td id=\"T_0c6bfa3e_f7b1_11ea_bd66_f40f2417f9ecrow1_col1\" class=\"data row1 col1\" >28</td>\n                        <td id=\"T_0c6bfa3e_f7b1_11ea_bd66_f40f2417f9ecrow1_col2\" class=\"data row1 col2\" >$2.96</td>\n                        <td id=\"T_0c6bfa3e_f7b1_11ea_bd66_f40f2417f9ecrow1_col3\" class=\"data row1 col3\" >$82.78</td>\n                        <td id=\"T_0c6bfa3e_f7b1_11ea_bd66_f40f2417f9ecrow1_col4\" class=\"data row1 col4\" >$3.76</td>\n            </tr>\n            <tr>\n                        <th id=\"T_0c6bfa3e_f7b1_11ea_bd66_f40f2417f9eclevel0_row2\" class=\"row_heading level0 row2\" >2</th>\n                        <td id=\"T_0c6bfa3e_f7b1_11ea_bd66_f40f2417f9ecrow2_col0\" class=\"data row2 col0\" >15-19</td>\n                        <td id=\"T_0c6bfa3e_f7b1_11ea_bd66_f40f2417f9ecrow2_col1\" class=\"data row2 col1\" >136</td>\n                        <td id=\"T_0c6bfa3e_f7b1_11ea_bd66_f40f2417f9ecrow2_col2\" class=\"data row2 col2\" >$3.04</td>\n                        <td id=\"T_0c6bfa3e_f7b1_11ea_bd66_f40f2417f9ecrow2_col3\" class=\"data row2 col3\" >$412.89</td>\n                        <td id=\"T_0c6bfa3e_f7b1_11ea_bd66_f40f2417f9ecrow2_col4\" class=\"data row2 col4\" >$3.86</td>\n            </tr>\n            <tr>\n                        <th id=\"T_0c6bfa3e_f7b1_11ea_bd66_f40f2417f9eclevel0_row3\" class=\"row_heading level0 row3\" >3</th>\n                        <td id=\"T_0c6bfa3e_f7b1_11ea_bd66_f40f2417f9ecrow3_col0\" class=\"data row3 col0\" >20-24</td>\n                        <td id=\"T_0c6bfa3e_f7b1_11ea_bd66_f40f2417f9ecrow3_col1\" class=\"data row3 col1\" >365</td>\n                        <td id=\"T_0c6bfa3e_f7b1_11ea_bd66_f40f2417f9ecrow3_col2\" class=\"data row3 col2\" >$3.05</td>\n                        <td id=\"T_0c6bfa3e_f7b1_11ea_bd66_f40f2417f9ecrow3_col3\" class=\"data row3 col3\" >$1,114.06</td>\n                        <td id=\"T_0c6bfa3e_f7b1_11ea_bd66_f40f2417f9ecrow3_col4\" class=\"data row3 col4\" >$4.32</td>\n            </tr>\n            <tr>\n                        <th id=\"T_0c6bfa3e_f7b1_11ea_bd66_f40f2417f9eclevel0_row4\" class=\"row_heading level0 row4\" >4</th>\n                        <td id=\"T_0c6bfa3e_f7b1_11ea_bd66_f40f2417f9ecrow4_col0\" class=\"data row4 col0\" >25-29</td>\n                        <td id=\"T_0c6bfa3e_f7b1_11ea_bd66_f40f2417f9ecrow4_col1\" class=\"data row4 col1\" >101</td>\n                        <td id=\"T_0c6bfa3e_f7b1_11ea_bd66_f40f2417f9ecrow4_col2\" class=\"data row4 col2\" >$2.90</td>\n                        <td id=\"T_0c6bfa3e_f7b1_11ea_bd66_f40f2417f9ecrow4_col3\" class=\"data row4 col3\" >$293.00</td>\n                        <td id=\"T_0c6bfa3e_f7b1_11ea_bd66_f40f2417f9ecrow4_col4\" class=\"data row4 col4\" >$3.81</td>\n            </tr>\n            <tr>\n                        <th id=\"T_0c6bfa3e_f7b1_11ea_bd66_f40f2417f9eclevel0_row5\" class=\"row_heading level0 row5\" >5</th>\n                        <td id=\"T_0c6bfa3e_f7b1_11ea_bd66_f40f2417f9ecrow5_col0\" class=\"data row5 col0\" >30-34</td>\n                        <td id=\"T_0c6bfa3e_f7b1_11ea_bd66_f40f2417f9ecrow5_col1\" class=\"data row5 col1\" >73</td>\n                        <td id=\"T_0c6bfa3e_f7b1_11ea_bd66_f40f2417f9ecrow5_col2\" class=\"data row5 col2\" >$2.93</td>\n                        <td id=\"T_0c6bfa3e_f7b1_11ea_bd66_f40f2417f9ecrow5_col3\" class=\"data row5 col3\" >$214.00</td>\n                        <td id=\"T_0c6bfa3e_f7b1_11ea_bd66_f40f2417f9ecrow5_col4\" class=\"data row5 col4\" >$4.12</td>\n            </tr>\n            <tr>\n                        <th id=\"T_0c6bfa3e_f7b1_11ea_bd66_f40f2417f9eclevel0_row6\" class=\"row_heading level0 row6\" >6</th>\n                        <td id=\"T_0c6bfa3e_f7b1_11ea_bd66_f40f2417f9ecrow6_col0\" class=\"data row6 col0\" >35-39</td>\n                        <td id=\"T_0c6bfa3e_f7b1_11ea_bd66_f40f2417f9ecrow6_col1\" class=\"data row6 col1\" >41</td>\n                        <td id=\"T_0c6bfa3e_f7b1_11ea_bd66_f40f2417f9ecrow6_col2\" class=\"data row6 col2\" >$3.60</td>\n                        <td id=\"T_0c6bfa3e_f7b1_11ea_bd66_f40f2417f9ecrow6_col3\" class=\"data row6 col3\" >$147.67</td>\n                        <td id=\"T_0c6bfa3e_f7b1_11ea_bd66_f40f2417f9ecrow6_col4\" class=\"data row6 col4\" >$4.76</td>\n            </tr>\n            <tr>\n                        <th id=\"T_0c6bfa3e_f7b1_11ea_bd66_f40f2417f9eclevel0_row7\" class=\"row_heading level0 row7\" >7</th>\n                        <td id=\"T_0c6bfa3e_f7b1_11ea_bd66_f40f2417f9ecrow7_col0\" class=\"data row7 col0\" >40+</td>\n                        <td id=\"T_0c6bfa3e_f7b1_11ea_bd66_f40f2417f9ecrow7_col1\" class=\"data row7 col1\" >13</td>\n                        <td id=\"T_0c6bfa3e_f7b1_11ea_bd66_f40f2417f9ecrow7_col2\" class=\"data row7 col2\" >$2.94</td>\n                        <td id=\"T_0c6bfa3e_f7b1_11ea_bd66_f40f2417f9ecrow7_col3\" class=\"data row7 col3\" >$38.24</td>\n                        <td id=\"T_0c6bfa3e_f7b1_11ea_bd66_f40f2417f9ecrow7_col4\" class=\"data row7 col4\" >$3.19</td>\n            </tr>\n    </tbody></table>"
     },
     "metadata": {},
     "execution_count": 35
    }
   ],
   "source": [
    "#create a summary table with a function per columns\n",
    "f = {\"Purchase ID\": [\"count\"], \"Price\": [\"mean\", \"sum\"]}\n",
    "summary2_df = age_range_df.agg(f)\n",
    "summary2_df.columns = summary2_df.columns.map(\"_\".join) \n",
    "summary2_df[\"Avg Total Purchase per Person\"] = summary2_df[\"Price_sum\"]/total_count_range\n",
    "#formating the data frame\n",
    "summary2_df = summary2_df.reset_index()\n",
    "summary2_df = summary2_df.rename({\"Purchase ID_count\" : \"Purchase Count\", \n",
    "                                  \"Price_mean\" : \"Average Purchase Price\", \n",
    "                                  \"Price_sum\" : \"Total Purchase Value\"}, axis = 1)\n",
    "summary2_df = summary2_df.style.format({\"Average Purchase Price\" : \"${:.2f}\",\n",
    "                                      \"Total Purchase Value\" : \"${:,.2f}\",\n",
    "                                      \"Avg Total Purchase per Person\" : \"${:.2f}\"})\n",
    "#print the result data frame\n",
    "summary2_df"
   ]
  },
  {
   "cell_type": "markdown",
   "metadata": {},
   "source": [
    "## Top Spenders"
   ]
  },
  {
   "cell_type": "markdown",
   "metadata": {},
   "source": [
    "* Run basic calculations to obtain the results in the table below\n",
    "\n",
    "\n",
    "* Create a summary data frame to hold the results\n",
    "\n",
    "\n",
    "* Sort the total purchase value column in descending order\n",
    "\n",
    "\n",
    "* Optional: give the displayed data cleaner formatting\n",
    "\n",
    "\n",
    "* Display a preview of the summary data frame\n",
    "\n"
   ]
  },
  {
   "cell_type": "code",
   "execution_count": 36,
   "metadata": {},
   "outputs": [
    {
     "output_type": "execute_result",
     "data": {
      "text/plain": "<pandas.io.formats.style.Styler at 0x7f8f51380be0>",
      "text/html": "<style  type=\"text/css\" >\n</style><table id=\"T_0d25309e_f7b1_11ea_9871_f40f2417f9ec\" ><thead>    <tr>        <th class=\"blank level0\" ></th>        <th class=\"col_heading level0 col0\" >SN</th>        <th class=\"col_heading level0 col1\" >Purchase Count</th>        <th class=\"col_heading level0 col2\" >Average Purchase Price</th>        <th class=\"col_heading level0 col3\" >Total Purchase Value</th>    </tr></thead><tbody>\n                <tr>\n                        <th id=\"T_0d25309e_f7b1_11ea_9871_f40f2417f9eclevel0_row0\" class=\"row_heading level0 row0\" >0</th>\n                        <td id=\"T_0d25309e_f7b1_11ea_9871_f40f2417f9ecrow0_col0\" class=\"data row0 col0\" >Lisosia93</td>\n                        <td id=\"T_0d25309e_f7b1_11ea_9871_f40f2417f9ecrow0_col1\" class=\"data row0 col1\" >5</td>\n                        <td id=\"T_0d25309e_f7b1_11ea_9871_f40f2417f9ecrow0_col2\" class=\"data row0 col2\" >$3.79</td>\n                        <td id=\"T_0d25309e_f7b1_11ea_9871_f40f2417f9ecrow0_col3\" class=\"data row0 col3\" >$18.96</td>\n            </tr>\n            <tr>\n                        <th id=\"T_0d25309e_f7b1_11ea_9871_f40f2417f9eclevel0_row1\" class=\"row_heading level0 row1\" >1</th>\n                        <td id=\"T_0d25309e_f7b1_11ea_9871_f40f2417f9ecrow1_col0\" class=\"data row1 col0\" >Idastidru52</td>\n                        <td id=\"T_0d25309e_f7b1_11ea_9871_f40f2417f9ecrow1_col1\" class=\"data row1 col1\" >4</td>\n                        <td id=\"T_0d25309e_f7b1_11ea_9871_f40f2417f9ecrow1_col2\" class=\"data row1 col2\" >$3.86</td>\n                        <td id=\"T_0d25309e_f7b1_11ea_9871_f40f2417f9ecrow1_col3\" class=\"data row1 col3\" >$15.45</td>\n            </tr>\n            <tr>\n                        <th id=\"T_0d25309e_f7b1_11ea_9871_f40f2417f9eclevel0_row2\" class=\"row_heading level0 row2\" >2</th>\n                        <td id=\"T_0d25309e_f7b1_11ea_9871_f40f2417f9ecrow2_col0\" class=\"data row2 col0\" >Chamjask73</td>\n                        <td id=\"T_0d25309e_f7b1_11ea_9871_f40f2417f9ecrow2_col1\" class=\"data row2 col1\" >3</td>\n                        <td id=\"T_0d25309e_f7b1_11ea_9871_f40f2417f9ecrow2_col2\" class=\"data row2 col2\" >$4.61</td>\n                        <td id=\"T_0d25309e_f7b1_11ea_9871_f40f2417f9ecrow2_col3\" class=\"data row2 col3\" >$13.83</td>\n            </tr>\n            <tr>\n                        <th id=\"T_0d25309e_f7b1_11ea_9871_f40f2417f9eclevel0_row3\" class=\"row_heading level0 row3\" >3</th>\n                        <td id=\"T_0d25309e_f7b1_11ea_9871_f40f2417f9ecrow3_col0\" class=\"data row3 col0\" >Iral74</td>\n                        <td id=\"T_0d25309e_f7b1_11ea_9871_f40f2417f9ecrow3_col1\" class=\"data row3 col1\" >4</td>\n                        <td id=\"T_0d25309e_f7b1_11ea_9871_f40f2417f9ecrow3_col2\" class=\"data row3 col2\" >$3.40</td>\n                        <td id=\"T_0d25309e_f7b1_11ea_9871_f40f2417f9ecrow3_col3\" class=\"data row3 col3\" >$13.62</td>\n            </tr>\n            <tr>\n                        <th id=\"T_0d25309e_f7b1_11ea_9871_f40f2417f9eclevel0_row4\" class=\"row_heading level0 row4\" >4</th>\n                        <td id=\"T_0d25309e_f7b1_11ea_9871_f40f2417f9ecrow4_col0\" class=\"data row4 col0\" >Iskadarya95</td>\n                        <td id=\"T_0d25309e_f7b1_11ea_9871_f40f2417f9ecrow4_col1\" class=\"data row4 col1\" >3</td>\n                        <td id=\"T_0d25309e_f7b1_11ea_9871_f40f2417f9ecrow4_col2\" class=\"data row4 col2\" >$4.37</td>\n                        <td id=\"T_0d25309e_f7b1_11ea_9871_f40f2417f9ecrow4_col3\" class=\"data row4 col3\" >$13.10</td>\n            </tr>\n    </tbody></table>"
     },
     "metadata": {},
     "execution_count": 36
    }
   ],
   "source": [
    "#first data frame grouped by SN count\n",
    "f = {\"Price\": [\"mean\", \"sum\"]}\n",
    "grouped_sn = purchase_data.groupby(\"SN\")\n",
    "top_df = pd.DataFrame(grouped_sn[\"Purchase ID\"].value_counts().count(\"SN\").sort_values(ascending = False))\n",
    "#second data frame grouped by SN price avg and total\n",
    "f = {\"Price\" : [\"mean\", \"sum\"]}\n",
    "top2_df = grouped_sn.agg(f)\n",
    "#merge the 2 data frames\n",
    "top_general_df = top2_df.merge(top_df, on = \"SN\").reset_index()\n",
    "top_general_df.columns = top_general_df.columns.map(\"_\".join)\n",
    "#Formating\n",
    "top_general_df = top_general_df.rename({\"S_N\": \"SN\",\"Price_mean\":\"Average Purchase Price\",                                               \"Price_sum\": \"Total Purchase Value\",\n",
    "                                        \"P_u_r_c_h_a_s_e_ _I_D\":\"Purchase Count\"}, axis = 1)\n",
    "\n",
    "top_general_df = top_general_df[[\"SN\",\"Purchase Count\",\"Average Purchase Price\",\n",
    "\"Total Purchase Value\"]].sort_values(\"Total Purchase Value\", ascending= False).iloc[:5,:]\n",
    "\n",
    "top_general_df = top_general_df.reset_index()\n",
    "del top_general_df[\"index\"] \n",
    "\n",
    "top_general_df = top_general_df.style.format({\"Average Purchase Price\" : \"${:.2f}\",\n",
    "                            \"Total Purchase Value\" : \"${:.2f}\"})\n",
    "#print the result data frame\n",
    "top_general_df"
   ]
  },
  {
   "cell_type": "markdown",
   "metadata": {},
   "source": [
    "## Most Popular Items"
   ]
  },
  {
   "cell_type": "markdown",
   "metadata": {},
   "source": [
    "* Retrieve the Item ID, Item Name, and Item Price columns\n",
    "\n",
    "\n",
    "* Group by Item ID and Item Name. Perform calculations to obtain purchase count, item price, and total purchase value\n",
    "\n",
    "\n",
    "* Create a summary data frame to hold the results\n",
    "\n",
    "\n",
    "* Sort the purchase count column in descending order\n",
    "\n",
    "\n",
    "* Optional: give the displayed data cleaner formatting\n",
    "\n",
    "\n",
    "* Display a preview of the summary data frame\n",
    "\n"
   ]
  },
  {
   "cell_type": "code",
   "execution_count": 37,
   "metadata": {
    "tags": []
   },
   "outputs": [
    {
     "output_type": "execute_result",
     "data": {
      "text/plain": "<pandas.io.formats.style.Styler at 0x7f8f512f4a58>",
      "text/html": "<style  type=\"text/css\" >\n</style><table id=\"T_0e167198_f7b1_11ea_8366_f40f2417f9ec\" ><thead>    <tr>        <th class=\"blank level0\" ></th>        <th class=\"col_heading level0 col0\" >Item ID</th>        <th class=\"col_heading level0 col1\" >Item Name</th>        <th class=\"col_heading level0 col2\" >Purchase Count</th>        <th class=\"col_heading level0 col3\" >Item Price</th>        <th class=\"col_heading level0 col4\" >Total Purchase Value</th>    </tr></thead><tbody>\n                <tr>\n                        <th id=\"T_0e167198_f7b1_11ea_8366_f40f2417f9eclevel0_row0\" class=\"row_heading level0 row0\" >0</th>\n                        <td id=\"T_0e167198_f7b1_11ea_8366_f40f2417f9ecrow0_col0\" class=\"data row0 col0\" >92</td>\n                        <td id=\"T_0e167198_f7b1_11ea_8366_f40f2417f9ecrow0_col1\" class=\"data row0 col1\" >Final Critic</td>\n                        <td id=\"T_0e167198_f7b1_11ea_8366_f40f2417f9ecrow0_col2\" class=\"data row0 col2\" >13</td>\n                        <td id=\"T_0e167198_f7b1_11ea_8366_f40f2417f9ecrow0_col3\" class=\"data row0 col3\" >$4.61</td>\n                        <td id=\"T_0e167198_f7b1_11ea_8366_f40f2417f9ecrow0_col4\" class=\"data row0 col4\" >$59.99</td>\n            </tr>\n            <tr>\n                        <th id=\"T_0e167198_f7b1_11ea_8366_f40f2417f9eclevel0_row1\" class=\"row_heading level0 row1\" >1</th>\n                        <td id=\"T_0e167198_f7b1_11ea_8366_f40f2417f9ecrow1_col0\" class=\"data row1 col0\" >178</td>\n                        <td id=\"T_0e167198_f7b1_11ea_8366_f40f2417f9ecrow1_col1\" class=\"data row1 col1\" >Oathbreaker, Last Hope of the Breaking Storm</td>\n                        <td id=\"T_0e167198_f7b1_11ea_8366_f40f2417f9ecrow1_col2\" class=\"data row1 col2\" >12</td>\n                        <td id=\"T_0e167198_f7b1_11ea_8366_f40f2417f9ecrow1_col3\" class=\"data row1 col3\" >$4.23</td>\n                        <td id=\"T_0e167198_f7b1_11ea_8366_f40f2417f9ecrow1_col4\" class=\"data row1 col4\" >$50.76</td>\n            </tr>\n            <tr>\n                        <th id=\"T_0e167198_f7b1_11ea_8366_f40f2417f9eclevel0_row2\" class=\"row_heading level0 row2\" >2</th>\n                        <td id=\"T_0e167198_f7b1_11ea_8366_f40f2417f9ecrow2_col0\" class=\"data row2 col0\" >145</td>\n                        <td id=\"T_0e167198_f7b1_11ea_8366_f40f2417f9ecrow2_col1\" class=\"data row2 col1\" >Fiery Glass Crusader</td>\n                        <td id=\"T_0e167198_f7b1_11ea_8366_f40f2417f9ecrow2_col2\" class=\"data row2 col2\" >9</td>\n                        <td id=\"T_0e167198_f7b1_11ea_8366_f40f2417f9ecrow2_col3\" class=\"data row2 col3\" >$4.58</td>\n                        <td id=\"T_0e167198_f7b1_11ea_8366_f40f2417f9ecrow2_col4\" class=\"data row2 col4\" >$41.22</td>\n            </tr>\n            <tr>\n                        <th id=\"T_0e167198_f7b1_11ea_8366_f40f2417f9eclevel0_row3\" class=\"row_heading level0 row3\" >3</th>\n                        <td id=\"T_0e167198_f7b1_11ea_8366_f40f2417f9ecrow3_col0\" class=\"data row3 col0\" >132</td>\n                        <td id=\"T_0e167198_f7b1_11ea_8366_f40f2417f9ecrow3_col1\" class=\"data row3 col1\" >Persuasion</td>\n                        <td id=\"T_0e167198_f7b1_11ea_8366_f40f2417f9ecrow3_col2\" class=\"data row3 col2\" >9</td>\n                        <td id=\"T_0e167198_f7b1_11ea_8366_f40f2417f9ecrow3_col3\" class=\"data row3 col3\" >$3.22</td>\n                        <td id=\"T_0e167198_f7b1_11ea_8366_f40f2417f9ecrow3_col4\" class=\"data row3 col4\" >$28.99</td>\n            </tr>\n            <tr>\n                        <th id=\"T_0e167198_f7b1_11ea_8366_f40f2417f9eclevel0_row4\" class=\"row_heading level0 row4\" >4</th>\n                        <td id=\"T_0e167198_f7b1_11ea_8366_f40f2417f9ecrow4_col0\" class=\"data row4 col0\" >108</td>\n                        <td id=\"T_0e167198_f7b1_11ea_8366_f40f2417f9ecrow4_col1\" class=\"data row4 col1\" >Extraction, Quickblade Of Trembling Hands</td>\n                        <td id=\"T_0e167198_f7b1_11ea_8366_f40f2417f9ecrow4_col2\" class=\"data row4 col2\" >9</td>\n                        <td id=\"T_0e167198_f7b1_11ea_8366_f40f2417f9ecrow4_col3\" class=\"data row4 col3\" >$3.53</td>\n                        <td id=\"T_0e167198_f7b1_11ea_8366_f40f2417f9ecrow4_col4\" class=\"data row4 col4\" >$31.77</td>\n            </tr>\n    </tbody></table>"
     },
     "metadata": {},
     "execution_count": 37
    }
   ],
   "source": [
    "group1 = purchase_data.groupby([\"Item ID\", \"Item Name\"])\n",
    "f = {\"Item ID\" : [\"count\"],\"Price\" : [\"mean\", \"sum\"]}\n",
    "item1 = group1.agg(f)\n",
    "item1.columns = item1.columns.map(\"_\".join)\n",
    "item1 = item1.reset_index()\n",
    "#formating\n",
    "item1 = item1.rename({\"Item ID_count\" :\"Purchase Count\",\"Price_mean\":\"Item Price\",\t\"Price_sum\":\"Total Purchase Value\"}, axis = 1).sort_values(by = \"Purchase Count\", ascending = False).iloc[:5,:]\n",
    "item1 = item1.reset_index(drop=True)\n",
    "item1 = item1[[\"Item ID\",\"Item Name\",\"Purchase Count\",\"Item Price\",\"Total Purchase Value\"]]\n",
    "item1 = item1.style.format({\"Item Price\": \"${:.2f}\",\"Total Purchase Value\" : \"${:.2f}\"})\n",
    "item1"
   ]
  },
  {
   "cell_type": "markdown",
   "metadata": {},
   "source": [
    "## Most Profitable Items"
   ]
  },
  {
   "cell_type": "markdown",
   "metadata": {},
   "source": [
    "* Sort the above table by total purchase value in descending order\n",
    "\n",
    "\n",
    "* Optional: give the displayed data cleaner formatting\n",
    "\n",
    "\n",
    "* Display a preview of the data frame\n",
    "\n"
   ]
  },
  {
   "cell_type": "code",
   "execution_count": 38,
   "metadata": {
    "scrolled": true
   },
   "outputs": [
    {
     "output_type": "execute_result",
     "data": {
      "text/plain": "<pandas.io.formats.style.Styler at 0x7f8f512f49b0>",
      "text/html": "<style  type=\"text/css\" >\n</style><table id=\"T_0ed7a946_f7b1_11ea_bc6c_f40f2417f9ec\" ><thead>    <tr>        <th class=\"blank level0\" ></th>        <th class=\"col_heading level0 col0\" >Item ID</th>        <th class=\"col_heading level0 col1\" >Item Name</th>        <th class=\"col_heading level0 col2\" >Purchase Count</th>        <th class=\"col_heading level0 col3\" >Item Price</th>        <th class=\"col_heading level0 col4\" >Total Purchase Value</th>    </tr></thead><tbody>\n                <tr>\n                        <th id=\"T_0ed7a946_f7b1_11ea_bc6c_f40f2417f9eclevel0_row0\" class=\"row_heading level0 row0\" >0</th>\n                        <td id=\"T_0ed7a946_f7b1_11ea_bc6c_f40f2417f9ecrow0_col0\" class=\"data row0 col0\" >92</td>\n                        <td id=\"T_0ed7a946_f7b1_11ea_bc6c_f40f2417f9ecrow0_col1\" class=\"data row0 col1\" >Final Critic</td>\n                        <td id=\"T_0ed7a946_f7b1_11ea_bc6c_f40f2417f9ecrow0_col2\" class=\"data row0 col2\" >13</td>\n                        <td id=\"T_0ed7a946_f7b1_11ea_bc6c_f40f2417f9ecrow0_col3\" class=\"data row0 col3\" >$4.61</td>\n                        <td id=\"T_0ed7a946_f7b1_11ea_bc6c_f40f2417f9ecrow0_col4\" class=\"data row0 col4\" >$59.99</td>\n            </tr>\n            <tr>\n                        <th id=\"T_0ed7a946_f7b1_11ea_bc6c_f40f2417f9eclevel0_row1\" class=\"row_heading level0 row1\" >1</th>\n                        <td id=\"T_0ed7a946_f7b1_11ea_bc6c_f40f2417f9ecrow1_col0\" class=\"data row1 col0\" >178</td>\n                        <td id=\"T_0ed7a946_f7b1_11ea_bc6c_f40f2417f9ecrow1_col1\" class=\"data row1 col1\" >Oathbreaker, Last Hope of the Breaking Storm</td>\n                        <td id=\"T_0ed7a946_f7b1_11ea_bc6c_f40f2417f9ecrow1_col2\" class=\"data row1 col2\" >12</td>\n                        <td id=\"T_0ed7a946_f7b1_11ea_bc6c_f40f2417f9ecrow1_col3\" class=\"data row1 col3\" >$4.23</td>\n                        <td id=\"T_0ed7a946_f7b1_11ea_bc6c_f40f2417f9ecrow1_col4\" class=\"data row1 col4\" >$50.76</td>\n            </tr>\n            <tr>\n                        <th id=\"T_0ed7a946_f7b1_11ea_bc6c_f40f2417f9eclevel0_row2\" class=\"row_heading level0 row2\" >2</th>\n                        <td id=\"T_0ed7a946_f7b1_11ea_bc6c_f40f2417f9ecrow2_col0\" class=\"data row2 col0\" >82</td>\n                        <td id=\"T_0ed7a946_f7b1_11ea_bc6c_f40f2417f9ecrow2_col1\" class=\"data row2 col1\" >Nirvana</td>\n                        <td id=\"T_0ed7a946_f7b1_11ea_bc6c_f40f2417f9ecrow2_col2\" class=\"data row2 col2\" >9</td>\n                        <td id=\"T_0ed7a946_f7b1_11ea_bc6c_f40f2417f9ecrow2_col3\" class=\"data row2 col3\" >$4.90</td>\n                        <td id=\"T_0ed7a946_f7b1_11ea_bc6c_f40f2417f9ecrow2_col4\" class=\"data row2 col4\" >$44.10</td>\n            </tr>\n            <tr>\n                        <th id=\"T_0ed7a946_f7b1_11ea_bc6c_f40f2417f9eclevel0_row3\" class=\"row_heading level0 row3\" >3</th>\n                        <td id=\"T_0ed7a946_f7b1_11ea_bc6c_f40f2417f9ecrow3_col0\" class=\"data row3 col0\" >145</td>\n                        <td id=\"T_0ed7a946_f7b1_11ea_bc6c_f40f2417f9ecrow3_col1\" class=\"data row3 col1\" >Fiery Glass Crusader</td>\n                        <td id=\"T_0ed7a946_f7b1_11ea_bc6c_f40f2417f9ecrow3_col2\" class=\"data row3 col2\" >9</td>\n                        <td id=\"T_0ed7a946_f7b1_11ea_bc6c_f40f2417f9ecrow3_col3\" class=\"data row3 col3\" >$4.58</td>\n                        <td id=\"T_0ed7a946_f7b1_11ea_bc6c_f40f2417f9ecrow3_col4\" class=\"data row3 col4\" >$41.22</td>\n            </tr>\n            <tr>\n                        <th id=\"T_0ed7a946_f7b1_11ea_bc6c_f40f2417f9eclevel0_row4\" class=\"row_heading level0 row4\" >4</th>\n                        <td id=\"T_0ed7a946_f7b1_11ea_bc6c_f40f2417f9ecrow4_col0\" class=\"data row4 col0\" >103</td>\n                        <td id=\"T_0ed7a946_f7b1_11ea_bc6c_f40f2417f9ecrow4_col1\" class=\"data row4 col1\" >Singed Scalpel</td>\n                        <td id=\"T_0ed7a946_f7b1_11ea_bc6c_f40f2417f9ecrow4_col2\" class=\"data row4 col2\" >8</td>\n                        <td id=\"T_0ed7a946_f7b1_11ea_bc6c_f40f2417f9ecrow4_col3\" class=\"data row4 col3\" >$4.35</td>\n                        <td id=\"T_0ed7a946_f7b1_11ea_bc6c_f40f2417f9ecrow4_col4\" class=\"data row4 col4\" >$34.80</td>\n            </tr>\n    </tbody></table>"
     },
     "metadata": {},
     "execution_count": 38
    }
   ],
   "source": [
    "group1 = purchase_data.groupby([\"Item ID\", \"Item Name\"])\n",
    "f = {\"Item ID\" : [\"count\"],\"Price\" : [\"mean\", \"sum\"]}\n",
    "item2 = group1.agg(f)\n",
    "item2.columns = item2.columns.map(\"_\".join)\n",
    "item2 = item2.reset_index()\n",
    "#formating\n",
    "item2 = item2.rename({\"Item ID_count\" :\"Purchase Count\",\"Price_mean\":\"Item Price\",\t\"Price_sum\":\"Total Purchase Value\"}, axis = 1).sort_values(by = \"Total Purchase Value\", ascending = False).iloc[:5,:]\n",
    "item2 = item2.reset_index(drop=True)\n",
    "item2 = item2[[\"Item ID\",\"Item Name\",\"Purchase Count\",\"Item Price\",\"Total Purchase Value\"]]\n",
    "item2 = item2.style.format({\"Item Price\": \"${:.2f}\",\"Total Purchase Value\" : \"${:.2f}\"})\n",
    "item2"
   ]
  },
  {
   "cell_type": "markdown",
   "metadata": {},
   "source": []
  }
 ],
 "metadata": {
  "anaconda-cloud": {},
  "kernel_info": {
   "name": "python3"
  },
  "kernelspec": {
   "display_name": "Python 3.6.10 64-bit ('PythonDataNew': conda)",
   "language": "python",
   "name": "python361064bitpythondatanewcondae7a48796120c4badafdc12c7c6175686"
  },
  "language_info": {
   "codemirror_mode": {
    "name": "ipython",
    "version": 3
   },
   "file_extension": ".py",
   "mimetype": "text/x-python",
   "name": "python",
   "nbconvert_exporter": "python",
   "pygments_lexer": "ipython3",
   "version": "3.6.10-final"
  },
  "latex_envs": {
   "LaTeX_envs_menu_present": true,
   "autoclose": false,
   "autocomplete": true,
   "bibliofile": "biblio.bib",
   "cite_by": "apalike",
   "current_citInitial": 1,
   "eqLabelWithNumbers": true,
   "eqNumInitial": 1,
   "hotkeys": {
    "equation": "Ctrl-E",
    "itemize": "Ctrl-I"
   },
   "labels_anchors": false,
   "latex_user_defs": false,
   "report_style_numbering": false,
   "user_envs_cfg": false
  },
  "nteract": {
   "version": "0.2.0"
  }
 },
 "nbformat": 4,
 "nbformat_minor": 2
}